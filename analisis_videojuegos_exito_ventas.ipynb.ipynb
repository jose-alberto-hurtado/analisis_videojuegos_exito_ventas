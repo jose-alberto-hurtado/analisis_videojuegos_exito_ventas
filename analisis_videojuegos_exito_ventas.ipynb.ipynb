{
 "cells": [
  {
   "cell_type": "markdown",
   "metadata": {},
   "source": [
    "#### Introducción\n",
    "\n",
    "Se Trabajará para la tienda online Ice, que vende videojuegos por todo el mundo. Las reseñas de usuarios y expertos, los géneros, las plataformas (por ejemplo, Xbox o PlayStation) y los datos históricos sobre las ventas de juegos están disponibles en fuentes abiertas. Se identificó patrones que determinan si un juego tiene éxito o no. Esto permitirá detectar proyectos prometedores y planificar campañas publicitarias. Los datos disponibles se remontan a 2016. Es diciembre de 2016 y estás planeando una campaña para 2017.\n",
    "\n",
    "Objetivo\n",
    "El objetivo de este análisis es identificar patrones que determinen el éxito de un juego en términos de ventas. Se pretende responder a preguntas clave como:\n",
    "\n",
    "¿Cuáles son las plataformas con mayores ventas?\n",
    "¿Qué géneros de juegos son más populares?\n",
    "¿Cómo afectan las reseñas de usuarios y críticos a las ventas de los juegos?\n",
    "¿Existen diferencias significativas en las calificaciones de los usuarios entre diferentes plataformas y géneros?"
   ]
  },
  {
   "cell_type": "code",
   "execution_count": 1,
   "metadata": {
    "tags": [
     "e5c1f0c2-db9f-43a0-99b9-4875c52427e8"
    ]
   },
   "outputs": [],
   "source": [
    "#biblioteacas importadas\n",
    "import pandas as pd\n",
    "import numpy as np\n",
    "import matplotlib.pyplot as plt\n",
    "from scipy import stats\n",
    "from scipy.stats import levene"
   ]
  },
  {
   "cell_type": "code",
   "execution_count": 2,
   "metadata": {},
   "outputs": [],
   "source": [
    "#Extraer archivos de videojuegos 2016-2017\n",
    "data = pd.read_csv(\"/datasets/games.csv\")"
   ]
  },
  {
   "cell_type": "code",
   "execution_count": 3,
   "metadata": {},
   "outputs": [
    {
     "name": "stdout",
     "output_type": "stream",
     "text": [
      "<class 'pandas.core.frame.DataFrame'>\n",
      "RangeIndex: 16715 entries, 0 to 16714\n",
      "Data columns (total 11 columns):\n",
      " #   Column           Non-Null Count  Dtype  \n",
      "---  ------           --------------  -----  \n",
      " 0   Name             16713 non-null  object \n",
      " 1   Platform         16715 non-null  object \n",
      " 2   Year_of_Release  16446 non-null  float64\n",
      " 3   Genre            16713 non-null  object \n",
      " 4   NA_sales         16715 non-null  float64\n",
      " 5   EU_sales         16715 non-null  float64\n",
      " 6   JP_sales         16715 non-null  float64\n",
      " 7   Other_sales      16715 non-null  float64\n",
      " 8   Critic_Score     8137 non-null   float64\n",
      " 9   User_Score       10014 non-null  object \n",
      " 10  Rating           9949 non-null   object \n",
      "dtypes: float64(6), object(5)\n",
      "memory usage: 1.4+ MB\n"
     ]
    }
   ],
   "source": [
    "data.info()"
   ]
  },
  {
   "cell_type": "code",
   "execution_count": 4,
   "metadata": {},
   "outputs": [
    {
     "data": {
      "text/html": [
       "<div>\n",
       "<style scoped>\n",
       "    .dataframe tbody tr th:only-of-type {\n",
       "        vertical-align: middle;\n",
       "    }\n",
       "\n",
       "    .dataframe tbody tr th {\n",
       "        vertical-align: top;\n",
       "    }\n",
       "\n",
       "    .dataframe thead th {\n",
       "        text-align: right;\n",
       "    }\n",
       "</style>\n",
       "<table border=\"1\" class=\"dataframe\">\n",
       "  <thead>\n",
       "    <tr style=\"text-align: right;\">\n",
       "      <th></th>\n",
       "      <th>Name</th>\n",
       "      <th>Platform</th>\n",
       "      <th>Year_of_Release</th>\n",
       "      <th>Genre</th>\n",
       "      <th>NA_sales</th>\n",
       "      <th>EU_sales</th>\n",
       "      <th>JP_sales</th>\n",
       "      <th>Other_sales</th>\n",
       "      <th>Critic_Score</th>\n",
       "      <th>User_Score</th>\n",
       "      <th>Rating</th>\n",
       "    </tr>\n",
       "  </thead>\n",
       "  <tbody>\n",
       "    <tr>\n",
       "      <th>6610</th>\n",
       "      <td>Smart Girl's Playhouse</td>\n",
       "      <td>DS</td>\n",
       "      <td>2007.0</td>\n",
       "      <td>Misc</td>\n",
       "      <td>0.24</td>\n",
       "      <td>0.00</td>\n",
       "      <td>0.00</td>\n",
       "      <td>0.02</td>\n",
       "      <td>NaN</td>\n",
       "      <td>tbd</td>\n",
       "      <td>E</td>\n",
       "    </tr>\n",
       "    <tr>\n",
       "      <th>15049</th>\n",
       "      <td>TV Anime Idolm@ster: Cinderella Girls G4U! Pac...</td>\n",
       "      <td>PS3</td>\n",
       "      <td>2015.0</td>\n",
       "      <td>Action</td>\n",
       "      <td>0.00</td>\n",
       "      <td>0.00</td>\n",
       "      <td>0.02</td>\n",
       "      <td>0.00</td>\n",
       "      <td>NaN</td>\n",
       "      <td>NaN</td>\n",
       "      <td>NaN</td>\n",
       "    </tr>\n",
       "    <tr>\n",
       "      <th>13453</th>\n",
       "      <td>Resident Evil Director's Cut</td>\n",
       "      <td>PS3</td>\n",
       "      <td>2006.0</td>\n",
       "      <td>Action</td>\n",
       "      <td>0.00</td>\n",
       "      <td>0.00</td>\n",
       "      <td>0.05</td>\n",
       "      <td>0.00</td>\n",
       "      <td>NaN</td>\n",
       "      <td>NaN</td>\n",
       "      <td>NaN</td>\n",
       "    </tr>\n",
       "    <tr>\n",
       "      <th>16160</th>\n",
       "      <td>Pachitte Chonmage Tatsujin 16: Pachinko Hissat...</td>\n",
       "      <td>PS2</td>\n",
       "      <td>2010.0</td>\n",
       "      <td>Misc</td>\n",
       "      <td>0.00</td>\n",
       "      <td>0.00</td>\n",
       "      <td>0.01</td>\n",
       "      <td>0.00</td>\n",
       "      <td>NaN</td>\n",
       "      <td>NaN</td>\n",
       "      <td>NaN</td>\n",
       "    </tr>\n",
       "    <tr>\n",
       "      <th>1270</th>\n",
       "      <td>Dead Rising 2</td>\n",
       "      <td>X360</td>\n",
       "      <td>2010.0</td>\n",
       "      <td>Action</td>\n",
       "      <td>0.75</td>\n",
       "      <td>0.52</td>\n",
       "      <td>0.09</td>\n",
       "      <td>0.12</td>\n",
       "      <td>79.0</td>\n",
       "      <td>6.9</td>\n",
       "      <td>M</td>\n",
       "    </tr>\n",
       "  </tbody>\n",
       "</table>\n",
       "</div>"
      ],
      "text/plain": [
       "                                                    Name Platform  \\\n",
       "6610                              Smart Girl's Playhouse       DS   \n",
       "15049  TV Anime Idolm@ster: Cinderella Girls G4U! Pac...      PS3   \n",
       "13453                       Resident Evil Director's Cut      PS3   \n",
       "16160  Pachitte Chonmage Tatsujin 16: Pachinko Hissat...      PS2   \n",
       "1270                                       Dead Rising 2     X360   \n",
       "\n",
       "       Year_of_Release   Genre  NA_sales  EU_sales  JP_sales  Other_sales  \\\n",
       "6610            2007.0    Misc      0.24      0.00      0.00         0.02   \n",
       "15049           2015.0  Action      0.00      0.00      0.02         0.00   \n",
       "13453           2006.0  Action      0.00      0.00      0.05         0.00   \n",
       "16160           2010.0    Misc      0.00      0.00      0.01         0.00   \n",
       "1270            2010.0  Action      0.75      0.52      0.09         0.12   \n",
       "\n",
       "       Critic_Score User_Score Rating  \n",
       "6610            NaN        tbd      E  \n",
       "15049           NaN        NaN    NaN  \n",
       "13453           NaN        NaN    NaN  \n",
       "16160           NaN        NaN    NaN  \n",
       "1270           79.0        6.9      M  "
      ]
     },
     "execution_count": 4,
     "metadata": {},
     "output_type": "execute_result"
    }
   ],
   "source": [
    "#Revisión rapida de como estan los datos\n",
    "data.sample(5)"
   ]
  },
  {
   "cell_type": "markdown",
   "metadata": {},
   "source": [
    "correcciones a realizar: \n",
    "1. Cambiar nombre de las columnas a minusculas, para tener una consistencia y prevenir posibles errores.\n",
    "2. Cambiar la columna \"Year_of_Releas\" a número  entero.\n",
    "\n",
    "3. Buscar posibles duplicados\n",
    "\n",
    "4. Buscar elementos faltantes o nulos"
   ]
  },
  {
   "cell_type": "code",
   "execution_count": 5,
   "metadata": {},
   "outputs": [
    {
     "name": "stdout",
     "output_type": "stream",
     "text": [
      "Index(['name', 'platform', 'year_of_release', 'genre', 'na_sales', 'eu_sales',\n",
      "       'jp_sales', 'other_sales', 'critic_score', 'user_score', 'rating'],\n",
      "      dtype='object')\n"
     ]
    }
   ],
   "source": [
    "#camiar a minusculas para evitar posibles errores\n",
    "data.columns = data.columns.str.lower()\n",
    "\n",
    "print(data.columns)"
   ]
  },
  {
   "cell_type": "code",
   "execution_count": 6,
   "metadata": {},
   "outputs": [
    {
     "name": "stdout",
     "output_type": "stream",
     "text": [
      "<class 'pandas.core.frame.DataFrame'>\n",
      "RangeIndex: 16715 entries, 0 to 16714\n",
      "Data columns (total 11 columns):\n",
      " #   Column           Non-Null Count  Dtype  \n",
      "---  ------           --------------  -----  \n",
      " 0   name             16713 non-null  object \n",
      " 1   platform         16715 non-null  object \n",
      " 2   year_of_release  16715 non-null  int64  \n",
      " 3   genre            16713 non-null  object \n",
      " 4   na_sales         16715 non-null  float64\n",
      " 5   eu_sales         16715 non-null  float64\n",
      " 6   jp_sales         16715 non-null  float64\n",
      " 7   other_sales      16715 non-null  float64\n",
      " 8   critic_score     8137 non-null   float64\n",
      " 9   user_score       10014 non-null  object \n",
      " 10  rating           9949 non-null   object \n",
      "dtypes: float64(5), int64(1), object(5)\n",
      "memory usage: 1.4+ MB\n"
     ]
    }
   ],
   "source": [
    "data [\"year_of_release\"] = data[\"year_of_release\"].fillna(0).astype(int)\n",
    "data.info()"
   ]
  },
  {
   "cell_type": "code",
   "execution_count": 7,
   "metadata": {},
   "outputs": [
    {
     "name": "stdout",
     "output_type": "stream",
     "text": [
      "<class 'pandas.core.frame.DataFrame'>\n",
      "RangeIndex: 16715 entries, 0 to 16714\n",
      "Data columns (total 11 columns):\n",
      " #   Column           Non-Null Count  Dtype  \n",
      "---  ------           --------------  -----  \n",
      " 0   name             16713 non-null  object \n",
      " 1   platform         16715 non-null  object \n",
      " 2   year_of_release  16715 non-null  int64  \n",
      " 3   genre            16713 non-null  object \n",
      " 4   na_sales         16715 non-null  float64\n",
      " 5   eu_sales         16715 non-null  float64\n",
      " 6   jp_sales         16715 non-null  float64\n",
      " 7   other_sales      16715 non-null  float64\n",
      " 8   critic_score     16713 non-null  float64\n",
      " 9   user_score       16713 non-null  float64\n",
      " 10  rating           16713 non-null  object \n",
      "dtypes: float64(6), int64(1), object(4)\n",
      "memory usage: 1.4+ MB\n"
     ]
    },
    {
     "data": {
      "text/html": [
       "<div>\n",
       "<style scoped>\n",
       "    .dataframe tbody tr th:only-of-type {\n",
       "        vertical-align: middle;\n",
       "    }\n",
       "\n",
       "    .dataframe tbody tr th {\n",
       "        vertical-align: top;\n",
       "    }\n",
       "\n",
       "    .dataframe thead th {\n",
       "        text-align: right;\n",
       "    }\n",
       "</style>\n",
       "<table border=\"1\" class=\"dataframe\">\n",
       "  <thead>\n",
       "    <tr style=\"text-align: right;\">\n",
       "      <th></th>\n",
       "      <th>name</th>\n",
       "      <th>platform</th>\n",
       "      <th>year_of_release</th>\n",
       "      <th>genre</th>\n",
       "      <th>na_sales</th>\n",
       "      <th>eu_sales</th>\n",
       "      <th>jp_sales</th>\n",
       "      <th>other_sales</th>\n",
       "      <th>critic_score</th>\n",
       "      <th>user_score</th>\n",
       "      <th>rating</th>\n",
       "    </tr>\n",
       "  </thead>\n",
       "  <tbody>\n",
       "    <tr>\n",
       "      <th>4961</th>\n",
       "      <td>Sonic &amp; All-Stars Racing Transformed</td>\n",
       "      <td>PSV</td>\n",
       "      <td>2012</td>\n",
       "      <td>Racing</td>\n",
       "      <td>0.09</td>\n",
       "      <td>0.20</td>\n",
       "      <td>0.00</td>\n",
       "      <td>0.09</td>\n",
       "      <td>69.0</td>\n",
       "      <td>7.4</td>\n",
       "      <td>E</td>\n",
       "    </tr>\n",
       "    <tr>\n",
       "      <th>14006</th>\n",
       "      <td>Pia Carrot e Youkoso!! 2.5</td>\n",
       "      <td>DC</td>\n",
       "      <td>2008</td>\n",
       "      <td>Adventure</td>\n",
       "      <td>0.00</td>\n",
       "      <td>0.00</td>\n",
       "      <td>0.04</td>\n",
       "      <td>0.00</td>\n",
       "      <td>66.0</td>\n",
       "      <td>7.6</td>\n",
       "      <td>E</td>\n",
       "    </tr>\n",
       "    <tr>\n",
       "      <th>16179</th>\n",
       "      <td>Pro Angler Moves</td>\n",
       "      <td>PS3</td>\n",
       "      <td>2012</td>\n",
       "      <td>Sports</td>\n",
       "      <td>0.01</td>\n",
       "      <td>0.00</td>\n",
       "      <td>0.00</td>\n",
       "      <td>0.00</td>\n",
       "      <td>75.0</td>\n",
       "      <td>7.4</td>\n",
       "      <td>E</td>\n",
       "    </tr>\n",
       "    <tr>\n",
       "      <th>9117</th>\n",
       "      <td>XCOM 2</td>\n",
       "      <td>PS4</td>\n",
       "      <td>2016</td>\n",
       "      <td>Strategy</td>\n",
       "      <td>0.04</td>\n",
       "      <td>0.08</td>\n",
       "      <td>0.00</td>\n",
       "      <td>0.02</td>\n",
       "      <td>88.0</td>\n",
       "      <td>8.0</td>\n",
       "      <td>T</td>\n",
       "    </tr>\n",
       "    <tr>\n",
       "      <th>4683</th>\n",
       "      <td>Itadaki Street DS</td>\n",
       "      <td>DS</td>\n",
       "      <td>2007</td>\n",
       "      <td>Misc</td>\n",
       "      <td>0.00</td>\n",
       "      <td>0.00</td>\n",
       "      <td>0.41</td>\n",
       "      <td>0.00</td>\n",
       "      <td>69.0</td>\n",
       "      <td>7.1</td>\n",
       "      <td>E</td>\n",
       "    </tr>\n",
       "    <tr>\n",
       "      <th>4421</th>\n",
       "      <td>The Urbz: Sims in the City (all regions sales)</td>\n",
       "      <td>DS</td>\n",
       "      <td>2004</td>\n",
       "      <td>Simulation</td>\n",
       "      <td>0.40</td>\n",
       "      <td>0.01</td>\n",
       "      <td>0.02</td>\n",
       "      <td>0.00</td>\n",
       "      <td>70.0</td>\n",
       "      <td>7.5</td>\n",
       "      <td>E</td>\n",
       "    </tr>\n",
       "    <tr>\n",
       "      <th>5985</th>\n",
       "      <td>NieR</td>\n",
       "      <td>X360</td>\n",
       "      <td>2010</td>\n",
       "      <td>Role-Playing</td>\n",
       "      <td>0.13</td>\n",
       "      <td>0.10</td>\n",
       "      <td>0.04</td>\n",
       "      <td>0.02</td>\n",
       "      <td>67.0</td>\n",
       "      <td>8.3</td>\n",
       "      <td>M</td>\n",
       "    </tr>\n",
       "    <tr>\n",
       "      <th>5019</th>\n",
       "      <td>Ghost Trick: Phantom Detective</td>\n",
       "      <td>DS</td>\n",
       "      <td>2010</td>\n",
       "      <td>Adventure</td>\n",
       "      <td>0.17</td>\n",
       "      <td>0.07</td>\n",
       "      <td>0.12</td>\n",
       "      <td>0.02</td>\n",
       "      <td>83.0</td>\n",
       "      <td>9.0</td>\n",
       "      <td>T</td>\n",
       "    </tr>\n",
       "    <tr>\n",
       "      <th>13838</th>\n",
       "      <td>Mission: Impossible - Operation Surma</td>\n",
       "      <td>GBA</td>\n",
       "      <td>2003</td>\n",
       "      <td>Platform</td>\n",
       "      <td>0.03</td>\n",
       "      <td>0.01</td>\n",
       "      <td>0.00</td>\n",
       "      <td>0.00</td>\n",
       "      <td>42.0</td>\n",
       "      <td>7.7</td>\n",
       "      <td>T</td>\n",
       "    </tr>\n",
       "    <tr>\n",
       "      <th>9703</th>\n",
       "      <td>Record of Agarest War Zero</td>\n",
       "      <td>PS3</td>\n",
       "      <td>0</td>\n",
       "      <td>Strategy</td>\n",
       "      <td>0.09</td>\n",
       "      <td>0.00</td>\n",
       "      <td>0.03</td>\n",
       "      <td>0.01</td>\n",
       "      <td>50.0</td>\n",
       "      <td>6.7</td>\n",
       "      <td>T</td>\n",
       "    </tr>\n",
       "  </tbody>\n",
       "</table>\n",
       "</div>"
      ],
      "text/plain": [
       "                                                 name platform  \\\n",
       "4961             Sonic & All-Stars Racing Transformed      PSV   \n",
       "14006                      Pia Carrot e Youkoso!! 2.5       DC   \n",
       "16179                                Pro Angler Moves      PS3   \n",
       "9117                                           XCOM 2      PS4   \n",
       "4683                                Itadaki Street DS       DS   \n",
       "4421   The Urbz: Sims in the City (all regions sales)       DS   \n",
       "5985                                             NieR     X360   \n",
       "5019                   Ghost Trick: Phantom Detective       DS   \n",
       "13838           Mission: Impossible - Operation Surma      GBA   \n",
       "9703                       Record of Agarest War Zero      PS3   \n",
       "\n",
       "       year_of_release         genre  na_sales  eu_sales  jp_sales  \\\n",
       "4961              2012        Racing      0.09      0.20      0.00   \n",
       "14006             2008     Adventure      0.00      0.00      0.04   \n",
       "16179             2012        Sports      0.01      0.00      0.00   \n",
       "9117              2016      Strategy      0.04      0.08      0.00   \n",
       "4683              2007          Misc      0.00      0.00      0.41   \n",
       "4421              2004    Simulation      0.40      0.01      0.02   \n",
       "5985              2010  Role-Playing      0.13      0.10      0.04   \n",
       "5019              2010     Adventure      0.17      0.07      0.12   \n",
       "13838             2003      Platform      0.03      0.01      0.00   \n",
       "9703                 0      Strategy      0.09      0.00      0.03   \n",
       "\n",
       "       other_sales  critic_score  user_score rating  \n",
       "4961          0.09          69.0         7.4      E  \n",
       "14006         0.00          66.0         7.6      E  \n",
       "16179         0.00          75.0         7.4      E  \n",
       "9117          0.02          88.0         8.0      T  \n",
       "4683          0.00          69.0         7.1      E  \n",
       "4421          0.00          70.0         7.5      E  \n",
       "5985          0.02          67.0         8.3      M  \n",
       "5019          0.02          83.0         9.0      T  \n",
       "13838         0.00          42.0         7.7      T  \n",
       "9703          0.01          50.0         6.7      T  "
      ]
     },
     "execution_count": 7,
     "metadata": {},
     "output_type": "execute_result"
    }
   ],
   "source": [
    "# Reemplazar 'tbd' en 'user_score' y convertir a flotante\n",
    "data['user_score'] = data['user_score'].replace('tbd', np.nan).astype(float)\n",
    "\n",
    "# Completar 'critic_score' y 'user_score' con la mediana por género\n",
    "data['critic_score'] = data.groupby('genre')['critic_score'].apply(lambda x: x.fillna(x.median()))\n",
    "data['user_score'] = data.groupby('genre')['user_score'].apply(lambda x: x.fillna(x.median()))\n",
    "\n",
    "# Completar 'rating' con el valor más común por género\n",
    "data['rating'] = data.groupby('genre')['rating'].apply(lambda x: x.fillna(x.mode()[0] if not x.mode().empty else 'Unknown'))\n",
    "\n",
    "# Completar 'year_of_release' con la mediana\n",
    "data['year_of_release'] = data['year_of_release'].fillna(data['year_of_release'].median()).astype(int)\n",
    "\n",
    "# Verificar los cambios\n",
    "data.info()\n",
    "\n",
    "# Mostrar muestra de datos para verificar\n",
    "data.sample(10)\n"
   ]
  },
  {
   "cell_type": "code",
   "execution_count": 8,
   "metadata": {},
   "outputs": [
    {
     "name": "stdout",
     "output_type": "stream",
     "text": [
      "<class 'pandas.core.frame.DataFrame'>\n",
      "RangeIndex: 16715 entries, 0 to 16714\n",
      "Data columns (total 11 columns):\n",
      " #   Column           Non-Null Count  Dtype  \n",
      "---  ------           --------------  -----  \n",
      " 0   name             16713 non-null  object \n",
      " 1   platform         16715 non-null  object \n",
      " 2   year_of_release  16715 non-null  int64  \n",
      " 3   genre            16713 non-null  object \n",
      " 4   na_sales         16715 non-null  float64\n",
      " 5   eu_sales         16715 non-null  float64\n",
      " 6   jp_sales         16715 non-null  float64\n",
      " 7   other_sales      16715 non-null  float64\n",
      " 8   critic_score     16713 non-null  float64\n",
      " 9   user_score       16713 non-null  float64\n",
      " 10  rating           16715 non-null  object \n",
      "dtypes: float64(6), int64(1), object(4)\n",
      "memory usage: 1.4+ MB\n"
     ]
    }
   ],
   "source": [
    "#Manejar valores ausentes en \"rating\"\n",
    "data[\"rating\"] = data[\"rating\"].fillna(\"Unknown\")\n",
    "data.info()"
   ]
  },
  {
   "cell_type": "code",
   "execution_count": 9,
   "metadata": {},
   "outputs": [
    {
     "name": "stdout",
     "output_type": "stream",
     "text": [
      "<class 'pandas.core.frame.DataFrame'>\n",
      "RangeIndex: 16715 entries, 0 to 16714\n",
      "Data columns (total 12 columns):\n",
      " #   Column           Non-Null Count  Dtype  \n",
      "---  ------           --------------  -----  \n",
      " 0   name             16713 non-null  object \n",
      " 1   platform         16715 non-null  object \n",
      " 2   year_of_release  16715 non-null  int64  \n",
      " 3   genre            16713 non-null  object \n",
      " 4   na_sales         16715 non-null  float64\n",
      " 5   eu_sales         16715 non-null  float64\n",
      " 6   jp_sales         16715 non-null  float64\n",
      " 7   other_sales      16715 non-null  float64\n",
      " 8   critic_score     16713 non-null  float64\n",
      " 9   user_score       16713 non-null  float64\n",
      " 10  rating           16715 non-null  object \n",
      " 11  total_sales      16715 non-null  float64\n",
      "dtypes: float64(7), int64(1), object(4)\n",
      "memory usage: 1.5+ MB\n"
     ]
    }
   ],
   "source": [
    "#Calcular vantas totales de  \"na, eu, jp y other\"\n",
    "data[\"total_sales\"] = data[\"na_sales\"] + data[\"eu_sales\"] + data[\"jp_sales\"] + data[\"other_sales\"]\n",
    "data.info()"
   ]
  },
  {
   "cell_type": "code",
   "execution_count": 10,
   "metadata": {},
   "outputs": [
    {
     "data": {
      "text/html": [
       "<div>\n",
       "<style scoped>\n",
       "    .dataframe tbody tr th:only-of-type {\n",
       "        vertical-align: middle;\n",
       "    }\n",
       "\n",
       "    .dataframe tbody tr th {\n",
       "        vertical-align: top;\n",
       "    }\n",
       "\n",
       "    .dataframe thead th {\n",
       "        text-align: right;\n",
       "    }\n",
       "</style>\n",
       "<table border=\"1\" class=\"dataframe\">\n",
       "  <thead>\n",
       "    <tr style=\"text-align: right;\">\n",
       "      <th></th>\n",
       "      <th>name</th>\n",
       "      <th>platform</th>\n",
       "      <th>year_of_release</th>\n",
       "      <th>genre</th>\n",
       "      <th>na_sales</th>\n",
       "      <th>eu_sales</th>\n",
       "      <th>jp_sales</th>\n",
       "      <th>other_sales</th>\n",
       "      <th>critic_score</th>\n",
       "      <th>user_score</th>\n",
       "      <th>rating</th>\n",
       "      <th>total_sales</th>\n",
       "    </tr>\n",
       "  </thead>\n",
       "  <tbody>\n",
       "    <tr>\n",
       "      <th>7988</th>\n",
       "      <td>harvest moon: a wonderful life special edition</td>\n",
       "      <td>ps2</td>\n",
       "      <td>2004</td>\n",
       "      <td>simulation</td>\n",
       "      <td>0.09</td>\n",
       "      <td>0.07</td>\n",
       "      <td>0.00</td>\n",
       "      <td>0.02</td>\n",
       "      <td>70.0</td>\n",
       "      <td>8.9</td>\n",
       "      <td>E</td>\n",
       "      <td>0.18</td>\n",
       "    </tr>\n",
       "    <tr>\n",
       "      <th>9513</th>\n",
       "      <td>summon night: twin age</td>\n",
       "      <td>ds</td>\n",
       "      <td>2007</td>\n",
       "      <td>role-playing</td>\n",
       "      <td>0.07</td>\n",
       "      <td>0.00</td>\n",
       "      <td>0.05</td>\n",
       "      <td>0.01</td>\n",
       "      <td>73.0</td>\n",
       "      <td>7.2</td>\n",
       "      <td>E10+</td>\n",
       "      <td>0.13</td>\n",
       "    </tr>\n",
       "    <tr>\n",
       "      <th>7837</th>\n",
       "      <td>chou-kuukan night pro yakyuu king (weekly jp s...</td>\n",
       "      <td>n64</td>\n",
       "      <td>1996</td>\n",
       "      <td>sports</td>\n",
       "      <td>0.00</td>\n",
       "      <td>0.00</td>\n",
       "      <td>0.19</td>\n",
       "      <td>0.00</td>\n",
       "      <td>75.0</td>\n",
       "      <td>7.4</td>\n",
       "      <td>E</td>\n",
       "      <td>0.19</td>\n",
       "    </tr>\n",
       "    <tr>\n",
       "      <th>3240</th>\n",
       "      <td>viewtiful joe</td>\n",
       "      <td>gc</td>\n",
       "      <td>2003</td>\n",
       "      <td>action</td>\n",
       "      <td>0.38</td>\n",
       "      <td>0.10</td>\n",
       "      <td>0.12</td>\n",
       "      <td>0.02</td>\n",
       "      <td>93.0</td>\n",
       "      <td>8.3</td>\n",
       "      <td>T</td>\n",
       "      <td>0.62</td>\n",
       "    </tr>\n",
       "    <tr>\n",
       "      <th>2315</th>\n",
       "      <td>skylanders: trap team</td>\n",
       "      <td>x360</td>\n",
       "      <td>2014</td>\n",
       "      <td>action</td>\n",
       "      <td>0.54</td>\n",
       "      <td>0.27</td>\n",
       "      <td>0.00</td>\n",
       "      <td>0.08</td>\n",
       "      <td>68.0</td>\n",
       "      <td>7.4</td>\n",
       "      <td>E10+</td>\n",
       "      <td>0.89</td>\n",
       "    </tr>\n",
       "  </tbody>\n",
       "</table>\n",
       "</div>"
      ],
      "text/plain": [
       "                                                   name platform  \\\n",
       "7988     harvest moon: a wonderful life special edition      ps2   \n",
       "9513                             summon night: twin age       ds   \n",
       "7837  chou-kuukan night pro yakyuu king (weekly jp s...      n64   \n",
       "3240                                      viewtiful joe       gc   \n",
       "2315                              skylanders: trap team     x360   \n",
       "\n",
       "      year_of_release         genre  na_sales  eu_sales  jp_sales  \\\n",
       "7988             2004    simulation      0.09      0.07      0.00   \n",
       "9513             2007  role-playing      0.07      0.00      0.05   \n",
       "7837             1996        sports      0.00      0.00      0.19   \n",
       "3240             2003        action      0.38      0.10      0.12   \n",
       "2315             2014        action      0.54      0.27      0.00   \n",
       "\n",
       "      other_sales  critic_score  user_score rating  total_sales  \n",
       "7988         0.02          70.0         8.9      E         0.18  \n",
       "9513         0.01          73.0         7.2   E10+         0.13  \n",
       "7837         0.00          75.0         7.4      E         0.19  \n",
       "3240         0.02          93.0         8.3      T         0.62  \n",
       "2315         0.08          68.0         7.4   E10+         0.89  "
      ]
     },
     "execution_count": 10,
     "metadata": {},
     "output_type": "execute_result"
    }
   ],
   "source": [
    "#Se convierte temporalmente las columnas\"name\" y \"genre\" en minúsculas para buscar duplicados\n",
    "data_lower = data.copy()\n",
    "data_lower[\"name\"] =data_lower[\"name\"].str.lower()\n",
    "data_lower[\"genre\"] = data_lower[\"genre\"].str.lower()\n",
    "data_lower[\"platform\"] = data_lower[\"platform\"].str.lower()\n",
    "data_lower.sample(5)"
   ]
  },
  {
   "cell_type": "code",
   "execution_count": 11,
   "metadata": {},
   "outputs": [
    {
     "name": "stdout",
     "output_type": "stream",
     "text": [
      "Duplicados encontrados:\n",
      "                                                   name platform  \\\n",
      "1                                     Super Mario Bros.      NES   \n",
      "5                                                Tetris       GB   \n",
      "16                                   Grand Theft Auto V      PS3   \n",
      "17                        Grand Theft Auto: San Andreas      PS2   \n",
      "18                                    Super Mario World     SNES   \n",
      "...                                                 ...      ...   \n",
      "16706                     Men in Black II: Alien Escape       GC   \n",
      "16709  SCORE International Baja 1000: The Official Game      PS2   \n",
      "16710                     Samurai Warriors: Sanada Maru      PS3   \n",
      "16713                                  Spirits & Spells      GBA   \n",
      "16714                               Winning Post 8 2016      PSV   \n",
      "\n",
      "       year_of_release       genre  na_sales  eu_sales  jp_sales  other_sales  \\\n",
      "1                 1985    Platform     29.08      3.58      6.81         0.77   \n",
      "5                 1989      Puzzle     23.20      2.26      4.22         0.58   \n",
      "16                2013      Action      7.02      9.09      0.98         3.96   \n",
      "17                2004      Action      9.43      0.40      0.41        10.57   \n",
      "18                1990    Platform     12.78      3.75      3.54         0.55   \n",
      "...                ...         ...       ...       ...       ...          ...   \n",
      "16706             2003     Shooter      0.01      0.00      0.00         0.00   \n",
      "16709             2008      Racing      0.00      0.00      0.00         0.00   \n",
      "16710             2016      Action      0.00      0.00      0.01         0.00   \n",
      "16713             2003    Platform      0.01      0.00      0.00         0.00   \n",
      "16714             2016  Simulation      0.00      0.00      0.01         0.00   \n",
      "\n",
      "       critic_score  user_score rating  total_sales  \n",
      "1              69.0         7.7      E        40.24  \n",
      "5              70.0         7.5      E        30.26  \n",
      "16             97.0         8.2      M        21.05  \n",
      "17             95.0         9.0      M        20.81  \n",
      "18             69.0         7.7      E        20.62  \n",
      "...             ...         ...    ...          ...  \n",
      "16706          73.0         7.4      T         0.01  \n",
      "16709          69.0         7.4      E         0.00  \n",
      "16710          68.0         7.4      T         0.01  \n",
      "16713          69.0         7.7      E         0.01  \n",
      "16714          70.0         7.5      E         0.01  \n",
      "\n",
      "[7955 rows x 12 columns]\n"
     ]
    }
   ],
   "source": [
    "#verificar duplicados\n",
    "duplicates = data_lower.duplicated(subset = [\"name\", \"genre\"], keep = False)\n",
    "duplicated_data = data[duplicates]\n",
    "print(\"Duplicados encontrados:\")\n",
    "print(duplicated_data)"
   ]
  },
  {
   "cell_type": "code",
   "execution_count": 12,
   "metadata": {},
   "outputs": [
    {
     "name": "stdout",
     "output_type": "stream",
     "text": [
      "<class 'pandas.core.frame.DataFrame'>\n",
      "Int64Index: 11565 entries, 0 to 16712\n",
      "Data columns (total 12 columns):\n",
      " #   Column           Non-Null Count  Dtype  \n",
      "---  ------           --------------  -----  \n",
      " 0   name             11564 non-null  object \n",
      " 1   platform         11565 non-null  object \n",
      " 2   year_of_release  11565 non-null  int64  \n",
      " 3   genre            11564 non-null  object \n",
      " 4   na_sales         11565 non-null  float64\n",
      " 5   eu_sales         11565 non-null  float64\n",
      " 6   jp_sales         11565 non-null  float64\n",
      " 7   other_sales      11565 non-null  float64\n",
      " 8   critic_score     11564 non-null  float64\n",
      " 9   user_score       11564 non-null  float64\n",
      " 10  rating           11565 non-null  object \n",
      " 11  total_sales      11565 non-null  float64\n",
      "dtypes: float64(7), int64(1), object(4)\n",
      "memory usage: 1.1+ MB\n"
     ]
    }
   ],
   "source": [
    "data = data.drop_duplicates(subset= [\"name\", \"genre\"], keep = \"first\" )\n",
    "data.info()"
   ]
  },
  {
   "cell_type": "code",
   "execution_count": 13,
   "metadata": {},
   "outputs": [
    {
     "name": "stdout",
     "output_type": "stream",
     "text": [
      "2012 2016\n"
     ]
    },
    {
     "data": {
      "text/html": [
       "<div>\n",
       "<style scoped>\n",
       "    .dataframe tbody tr th:only-of-type {\n",
       "        vertical-align: middle;\n",
       "    }\n",
       "\n",
       "    .dataframe tbody tr th {\n",
       "        vertical-align: top;\n",
       "    }\n",
       "\n",
       "    .dataframe thead th {\n",
       "        text-align: right;\n",
       "    }\n",
       "</style>\n",
       "<table border=\"1\" class=\"dataframe\">\n",
       "  <thead>\n",
       "    <tr style=\"text-align: right;\">\n",
       "      <th></th>\n",
       "      <th>name</th>\n",
       "      <th>platform</th>\n",
       "      <th>year_of_release</th>\n",
       "      <th>genre</th>\n",
       "      <th>na_sales</th>\n",
       "      <th>eu_sales</th>\n",
       "      <th>jp_sales</th>\n",
       "      <th>other_sales</th>\n",
       "      <th>critic_score</th>\n",
       "      <th>user_score</th>\n",
       "      <th>rating</th>\n",
       "      <th>total_sales</th>\n",
       "    </tr>\n",
       "  </thead>\n",
       "  <tbody>\n",
       "    <tr>\n",
       "      <th>16</th>\n",
       "      <td>Grand Theft Auto V</td>\n",
       "      <td>PS3</td>\n",
       "      <td>2013</td>\n",
       "      <td>Action</td>\n",
       "      <td>7.02</td>\n",
       "      <td>9.09</td>\n",
       "      <td>0.98</td>\n",
       "      <td>3.96</td>\n",
       "      <td>97.0</td>\n",
       "      <td>8.2</td>\n",
       "      <td>M</td>\n",
       "      <td>21.05</td>\n",
       "    </tr>\n",
       "    <tr>\n",
       "      <th>31</th>\n",
       "      <td>Call of Duty: Black Ops 3</td>\n",
       "      <td>PS4</td>\n",
       "      <td>2015</td>\n",
       "      <td>Shooter</td>\n",
       "      <td>6.03</td>\n",
       "      <td>5.86</td>\n",
       "      <td>0.36</td>\n",
       "      <td>2.38</td>\n",
       "      <td>73.0</td>\n",
       "      <td>7.4</td>\n",
       "      <td>M</td>\n",
       "      <td>14.63</td>\n",
       "    </tr>\n",
       "    <tr>\n",
       "      <th>33</th>\n",
       "      <td>Pokemon X/Pokemon Y</td>\n",
       "      <td>3DS</td>\n",
       "      <td>2013</td>\n",
       "      <td>Role-Playing</td>\n",
       "      <td>5.28</td>\n",
       "      <td>4.19</td>\n",
       "      <td>4.35</td>\n",
       "      <td>0.78</td>\n",
       "      <td>74.0</td>\n",
       "      <td>7.8</td>\n",
       "      <td>T</td>\n",
       "      <td>14.60</td>\n",
       "    </tr>\n",
       "    <tr>\n",
       "      <th>34</th>\n",
       "      <td>Call of Duty: Black Ops II</td>\n",
       "      <td>PS3</td>\n",
       "      <td>2012</td>\n",
       "      <td>Shooter</td>\n",
       "      <td>4.99</td>\n",
       "      <td>5.73</td>\n",
       "      <td>0.65</td>\n",
       "      <td>2.42</td>\n",
       "      <td>83.0</td>\n",
       "      <td>5.3</td>\n",
       "      <td>M</td>\n",
       "      <td>13.79</td>\n",
       "    </tr>\n",
       "    <tr>\n",
       "      <th>47</th>\n",
       "      <td>Pokemon Omega Ruby/Pokemon Alpha Sapphire</td>\n",
       "      <td>3DS</td>\n",
       "      <td>2014</td>\n",
       "      <td>Role-Playing</td>\n",
       "      <td>4.35</td>\n",
       "      <td>3.49</td>\n",
       "      <td>3.10</td>\n",
       "      <td>0.74</td>\n",
       "      <td>74.0</td>\n",
       "      <td>7.8</td>\n",
       "      <td>T</td>\n",
       "      <td>11.68</td>\n",
       "    </tr>\n",
       "  </tbody>\n",
       "</table>\n",
       "</div>"
      ],
      "text/plain": [
       "                                         name platform  year_of_release  \\\n",
       "16                         Grand Theft Auto V      PS3             2013   \n",
       "31                  Call of Duty: Black Ops 3      PS4             2015   \n",
       "33                        Pokemon X/Pokemon Y      3DS             2013   \n",
       "34                 Call of Duty: Black Ops II      PS3             2012   \n",
       "47  Pokemon Omega Ruby/Pokemon Alpha Sapphire      3DS             2014   \n",
       "\n",
       "           genre  na_sales  eu_sales  jp_sales  other_sales  critic_score  \\\n",
       "16        Action      7.02      9.09      0.98         3.96          97.0   \n",
       "31       Shooter      6.03      5.86      0.36         2.38          73.0   \n",
       "33  Role-Playing      5.28      4.19      4.35         0.78          74.0   \n",
       "34       Shooter      4.99      5.73      0.65         2.42          83.0   \n",
       "47  Role-Playing      4.35      3.49      3.10         0.74          74.0   \n",
       "\n",
       "    user_score rating  total_sales  \n",
       "16         8.2      M        21.05  \n",
       "31         7.4      M        14.63  \n",
       "33         7.8      T        14.60  \n",
       "34         5.3      M        13.79  \n",
       "47         7.8      T        11.68  "
      ]
     },
     "execution_count": 13,
     "metadata": {},
     "output_type": "execute_result"
    }
   ],
   "source": [
    "# Filtrar datos para los últimos 5 años (2012-2016)\n",
    "recent_data = data[data['year_of_release'] >= 2012]\n",
    "\n",
    "# Verificar el filtrado\n",
    "print(recent_data['year_of_release'].min(), recent_data['year_of_release'].max())\n",
    "recent_data.head()\n"
   ]
  },
  {
   "cell_type": "code",
   "execution_count": 14,
   "metadata": {},
   "outputs": [
    {
     "data": {
      "image/png": "[encoded data removed]",
      "text/plain": [
       "<Figure size 1200x600 with 1 Axes>"
      ]
     },
     "metadata": {},
     "output_type": "display_data"
    }
   ],
   "source": [
    "# Número de juegos lanzados por año (últimos 5 años)\n",
    "games_per_year_recent = recent_data['year_of_release'].value_counts().sort_index()\n",
    "\n",
    "# Gráfica de juegos lanzados por año (últimos 5 años)\n",
    "plt.figure(figsize=(12, 6))\n",
    "games_per_year_recent.plot(kind='bar')\n",
    "plt.xlabel(\"Año de lanzamiento\")\n",
    "plt.ylabel(\"Número de juegos\")\n",
    "plt.title(\"Número de juegos lanzados por año (2012-2016)\")\n",
    "plt.show()\n"
   ]
  },
  {
   "cell_type": "markdown",
   "metadata": {},
   "source": [
    "Se puede ver un tendencia alcista de juegos lanzados por año, hasta su maximo en el 2008 despúes de ese año, se ve una clara disminución de lanzamientos "
   ]
  },
  {
   "cell_type": "code",
   "execution_count": 15,
   "metadata": {},
   "outputs": [
    {
     "data": {
      "image/png": "[encoded data removed]",
      "text/plain": [
       "<Figure size 1200x600 with 1 Axes>"
      ]
     },
     "metadata": {},
     "output_type": "display_data"
    }
   ],
   "source": [
    "# Ventas totales por plataforma (últimos 5 años)\n",
    "platform_sales_recent = recent_data.groupby('platform')['total_sales'].sum().sort_values(ascending=False)\n",
    "\n",
    "# Gráfica de ventas totales por plataforma (últimos 5 años)\n",
    "plt.figure(figsize=(12, 6))\n",
    "platform_sales_recent.plot(kind='bar')\n",
    "plt.xlabel(\"Plataforma\")\n",
    "plt.ylabel(\"Ventas totales (en millones)\")\n",
    "plt.title(\"Ventas totales por plataforma (2012-2016)\")\n",
    "plt.show()\n"
   ]
  },
  {
   "cell_type": "markdown",
   "metadata": {},
   "source": [
    "Se aprecia que PS2, Wii, PS, DS son las plataformas con mayores ventas totales"
   ]
  },
  {
   "cell_type": "code",
   "execution_count": 16,
   "metadata": {},
   "outputs": [
    {
     "name": "stdout",
     "output_type": "stream",
     "text": [
      "[2006 1985 2008 2009 1996 1989 1984 2005 1999 2007 2010 2013 2004 1990\n",
      " 1988 2002 2001 2011 1998 2015 2012 2014 1992 1997 1993 1994 1982 2016\n",
      " 2003 1986 2000    0 1995 1991 1981 1987 1980 1983]\n"
     ]
    }
   ],
   "source": [
    "#verificación de valores unicos\n",
    "print(data[\"year_of_release\"].unique())"
   ]
  },
  {
   "cell_type": "code",
   "execution_count": 17,
   "metadata": {},
   "outputs": [
    {
     "data": {
      "image/png": "[encoded data removed]",
      "text/plain": [
       "<Figure size 1200x600 with 1 Axes>"
      ]
     },
     "metadata": {},
     "output_type": "display_data"
    }
   ],
   "source": [
    "# Preparar los datos para un gráfico de barras apiladas (últimos 5 años)\n",
    "sales_per_year_platform_recent = recent_data.pivot_table(index='year_of_release', columns='platform', values='total_sales', aggfunc='sum').fillna(0)\n",
    "\n",
    "# Seleccionar las plataformas líderes en los últimos 5 años\n",
    "top_platforms_recent = platform_sales_recent.head(5).index\n",
    "sales_per_year_top_platforms_recent = sales_per_year_platform_recent[top_platforms_recent]\n",
    "\n",
    "# Gráfica de ventas por año para las plataformas líderes en un gráfico de barras apiladas (últimos 5 años)\n",
    "sales_per_year_top_platforms_recent.plot(kind='bar', stacked=True, figsize=(12, 6))\n",
    "plt.xlabel(\"Año de lanzamiento\")\n",
    "plt.ylabel(\"Ventas totales (en millones)\")\n",
    "plt.title(\"Distribución de ventas por año para las plataformas líderes (2012-2016)\")\n",
    "plt.show()\n"
   ]
  },
  {
   "cell_type": "markdown",
   "metadata": {},
   "source": [
    "Se toma como año relevante del 2012 al 2016, con un periodo no mayor a cinco años para responder de mejor manera que vender para el 2017"
   ]
  },
  {
   "cell_type": "code",
   "execution_count": 18,
   "metadata": {},
   "outputs": [
    {
     "name": "stdout",
     "output_type": "stream",
     "text": [
      "Cinco plataformas principales de Norteamérica: \n",
      "platform\n",
      "PS2     526.82\n",
      "Wii     413.66\n",
      "X360    373.48\n",
      "PS      320.93\n",
      "DS      309.73\n",
      "Name: na_sales, dtype: float64\n"
     ]
    }
   ],
   "source": [
    "#Cinco plataformas pincipales en \"na\" Norteamérica\n",
    "na_top_platforms= data.groupby(\"platform\")[\"na_sales\"].sum().sort_values(ascending= False).head(5)\n",
    "print(\"Cinco plataformas principales de Norteamérica: \")\n",
    "print(na_top_platforms)"
   ]
  },
  {
   "cell_type": "code",
   "execution_count": 19,
   "metadata": {},
   "outputs": [
    {
     "name": "stdout",
     "output_type": "stream",
     "text": [
      "Cinco plataformas principales de Europa:\n",
      "platform\n",
      "PS2    315.71\n",
      "Wii    226.59\n",
      "PS     203.13\n",
      "PS3    190.93\n",
      "DS     162.43\n",
      "Name: eu_sales, dtype: float64\n"
     ]
    }
   ],
   "source": [
    "#ventas principales en \"eu\" Europa\n",
    "eu_top_platform = data.groupby(\"platform\")[\"eu_sales\"].sum().sort_values(ascending= False).head(5)\n",
    "print(\"Cinco plataformas principales de Europa:\")\n",
    "print(eu_top_platform)"
   ]
  },
  {
   "cell_type": "code",
   "execution_count": 20,
   "metadata": {},
   "outputs": [
    {
     "name": "stdout",
     "output_type": "stream",
     "text": [
      "Cinco plataformas principales de Japón\n",
      "platform\n",
      "DS      171.12\n",
      "PS      137.28\n",
      "PS2     133.89\n",
      "SNES    114.35\n",
      "3DS      94.40\n",
      "Name: jp_sales, dtype: float64\n"
     ]
    }
   ],
   "source": [
    "jp_top_platform = data.groupby(\"platform\")[\"jp_sales\"].sum().sort_values(ascending= False).head(5)\n",
    "print(\"Cinco plataformas principales de Japón\")\n",
    "print(jp_top_platform)"
   ]
  },
  {
   "cell_type": "code",
   "execution_count": 21,
   "metadata": {},
   "outputs": [
    {
     "data": {
      "text/plain": [
       "<Figure size 1200x600 with 0 Axes>"
      ]
     },
     "metadata": {},
     "output_type": "display_data"
    },
    {
     "data": {
      "image/png": "[encoded data removed]",
      "text/plain": [
       "<Figure size 640x480 with 1 Axes>"
      ]
     },
     "metadata": {},
     "output_type": "display_data"
    }
   ],
   "source": [
    "# Filtrar datos para los últimos 5 años (2012-2016)\n",
    "recent_data = data[data['year_of_release'] >= 2012]\n",
    "\n",
    "# Gráfica de cajas con las ventas por plataforma (últimos 5 años)\n",
    "plt.figure(figsize=(12, 6))\n",
    "recent_data.boxplot(column='total_sales', by='platform', grid=False)\n",
    "plt.xlabel(\"Plataforma\")\n",
    "plt.ylabel(\"Ventas totales (en millones)\")\n",
    "plt.title(\"Distribución de ventas por plataforma (2012-2016)\")\n",
    "plt.suptitle('')  # Eliminar el título automático de Pandas\n",
    "plt.show()"
   ]
  },
  {
   "cell_type": "markdown",
   "metadata": {},
   "source": [
    "Las plataformas con las ventas más altas en los últimos 5 años incluyen PS4, PS3, y X360."
   ]
  },
  {
   "cell_type": "code",
   "execution_count": 22,
   "metadata": {},
   "outputs": [
    {
     "data": {
      "image/png": "[encoded data removed]",
      "text/plain": [
       "<Figure size 1200x600 with 1 Axes>"
      ]
     },
     "metadata": {},
     "output_type": "display_data"
    }
   ],
   "source": [
    "# Gráfica de dispersión entre critic_score y total_sales\n",
    "plt.figure(figsize=(12, 6))\n",
    "plt.scatter(recent_data['critic_score'], recent_data['total_sales'])\n",
    "plt.xlabel(\"Puntuación de Críticos\")\n",
    "plt.ylabel(\"Ventas totales (en millones)\")\n",
    "plt.title(\"Relación entre Puntuación de Críticos y Ventas Totales (2012-2016)\")\n",
    "plt.show()\n"
   ]
  },
  {
   "cell_type": "markdown",
   "metadata": {},
   "source": [
    "Existe una correlación positiva entre la puntuación de los críticos y las ventas totales. A medida que la puntuación de los críticos aumenta, también tienden a aumentar las ventas totales."
   ]
  },
  {
   "cell_type": "code",
   "execution_count": 23,
   "metadata": {},
   "outputs": [
    {
     "data": {
      "image/png": "[encoded data removed]",
      "text/plain": [
       "<Figure size 1200x600 with 1 Axes>"
      ]
     },
     "metadata": {},
     "output_type": "display_data"
    }
   ],
   "source": [
    "# Gráfica de dispersión entre user_score y total_sales\n",
    "plt.figure(figsize=(12, 6))\n",
    "plt.scatter(recent_data['user_score'], recent_data['total_sales'])\n",
    "plt.xlabel(\"Puntuación de Usuarios\")\n",
    "plt.ylabel(\"Ventas totales (en millones)\")\n",
    "plt.title(\"Relación entre Puntuación de Usuarios y Ventas Totales (2012-2016)\")\n",
    "plt.show()\n"
   ]
  },
  {
   "cell_type": "markdown",
   "metadata": {},
   "source": [
    "   - La relación entre la puntuación de los usuarios y las ventas totales es menos clara en comparación con la de los críticos, aunque hay una ligera tendencia positiva, no es tan pronunciada.\n",
    "   \n",
    "   - Muchas ventas altas se concentran en juegos con puntuaciones de usuarios entre 5 y 7."
   ]
  },
  {
   "cell_type": "markdown",
   "metadata": {},
   "source": [
    "##### Principales plataformas en cada región:\n",
    "\n",
    "   - Norteamérica (na): PS2(517.15),  Wii(411.19),  X360(368.61),  PS(319.13),   DS(308.42)\n",
    "   \n",
    "\n",
    "   - Europa(eu):        PS2(309.52),  Wii(225.98),  Ps(201.91),    PS3(190.47),  DS(62.24)\n",
    "   \n",
    "\n",
    "   - Japón (jp):        DS(170.55),   PS(137.24),   PS2(132.23),   SNES(114.35), 3DS( 94.37)\n",
    "\n",
    "Con lo que podemos ver que las plataformas en Norteamérica tuvieron más ventas"
   ]
  },
  {
   "cell_type": "code",
   "execution_count": 24,
   "metadata": {},
   "outputs": [
    {
     "name": "stdout",
     "output_type": "stream",
     "text": [
      "Cinco géneros principales de Norteamérica\n",
      "genre\n",
      "Action      558.43\n",
      "Sports      464.75\n",
      "Shooter     421.71\n",
      "Platform    372.79\n",
      "Misc        310.63\n",
      "Name: na_sales, dtype: float64\n"
     ]
    }
   ],
   "source": [
    "#determinar 5 géneros principales por región\n",
    "\n",
    "#vantas por género en \"na\" Norte america\n",
    "na_top_genre = data.groupby(\"genre\")[\"na_sales\"].sum().sort_values(ascending= False).head(5)\n",
    "print(\"Cinco géneros principales de Norteamérica\")\n",
    "print(na_top_genre)"
   ]
  },
  {
   "cell_type": "code",
   "execution_count": 25,
   "metadata": {},
   "outputs": [
    {
     "name": "stdout",
     "output_type": "stream",
     "text": [
      "Cinco géneros principales de Europa\n",
      "genre\n",
      "Action     323.55\n",
      "Sports     271.37\n",
      "Shooter    202.09\n",
      "Racing     191.30\n",
      "Misc       176.54\n",
      "Name: eu_sales, dtype: float64\n"
     ]
    }
   ],
   "source": [
    "#Ventas por género en \"eu\" Europa\n",
    "eu_top_genre= data.groupby(\"genre\")[\"eu_sales\"].sum().sort_values(ascending= False).head(5)\n",
    "print(\"Cinco géneros principales de Europa\")\n",
    "print(eu_top_genre)"
   ]
  },
  {
   "cell_type": "code",
   "execution_count": 26,
   "metadata": {},
   "outputs": [
    {
     "name": "stdout",
     "output_type": "stream",
     "text": [
      "cinco géneros principales en Japón\n",
      "genre\n",
      "Role-Playing    329.14\n",
      "Action          143.87\n",
      "Platform        124.24\n",
      "Sports          122.16\n",
      "Misc            104.86\n",
      "Name: jp_sales, dtype: float64\n"
     ]
    }
   ],
   "source": [
    "#ventas por género de \"jp\" Japón\n",
    "jp_top_genre= data.groupby(\"genre\")[\"jp_sales\"].sum().sort_values(ascending= False).head(5)\n",
    "print(\"cinco géneros principales en Japón\")\n",
    "print(jp_top_genre)\n",
    "\n",
    "\n"
   ]
  },
  {
   "cell_type": "code",
   "execution_count": null,
   "metadata": {},
   "outputs": [],
   "source": []
  },
  {
   "cell_type": "markdown",
   "metadata": {},
   "source": [
    "#### . Se observa que la categoría género predomina:\n",
    "    \n",
    "   - Norte america: Action(516.78),        Sport(447.67),     Shooter(366.08),   Misc(304.61),     platform(301.78)\n",
    "   \n",
    "        \n",
    "   - Europa:        Action(317.05),        Sports(265.21),    Shooter(198.63),   Racing(188.52),   Misc(175.83)\n",
    "        \n",
    " \n",
    " - Japón:         Role-Playing(315.54),  Action(134.28),    Sports(106.11),    Misc(99.93),      Platform(92.86)\n",
    "        \n",
    "Se obsera que hay una relación entre los videojuegos de action, sports,  shooter, misc y de plataforma son los preferidos en Norteamérica y Europa, mientras que en Japón es Role-Playing \n"
   ]
  },
  {
   "cell_type": "code",
   "execution_count": 27,
   "metadata": {},
   "outputs": [
    {
     "name": "stdout",
     "output_type": "stream",
     "text": [
      "Vantas por clasificación ESRB en Norteamérica\n",
      "rating\n",
      "E          1583.80\n",
      "T           870.62\n",
      "M           605.15\n",
      "E10+        214.12\n",
      "K-A           2.56\n",
      "Unknown       1.78\n",
      "EC            1.35\n",
      "RP            0.00\n",
      "Name: na_sales, dtype: float64\n"
     ]
    }
   ],
   "source": [
    "#vantas por clasificacion por ESRB en Norteamérica\n",
    "na_rating_sales= data.groupby(\"rating\")[\"na_sales\"].sum().sort_values(ascending = False)\n",
    "print(\"Vantas por clasificación ESRB en Norteamérica\")\n",
    "print(na_rating_sales)"
   ]
  },
  {
   "cell_type": "code",
   "execution_count": 28,
   "metadata": {},
   "outputs": [
    {
     "name": "stdout",
     "output_type": "stream",
     "text": [
      "Vantas por clasificación ESRB en Europa\n",
      "rating\n",
      "E          872.72\n",
      "T          492.76\n",
      "M          329.68\n",
      "E10+       111.46\n",
      "Unknown      0.53\n",
      "K-A          0.27\n",
      "EC           0.09\n",
      "RP           0.07\n",
      "Name: eu_sales, dtype: float64\n"
     ]
    }
   ],
   "source": [
    "#ventas por clasificación por ESRB en Europa\n",
    "eu_rating_sales= data.groupby(\"rating\")[\"eu_sales\"].sum().sort_values(ascending= False)\n",
    "print(\"Vantas por clasificación ESRB en Europa\")\n",
    "print(eu_rating_sales)"
   ]
  },
  {
   "cell_type": "code",
   "execution_count": 29,
   "metadata": {},
   "outputs": [
    {
     "name": "stdout",
     "output_type": "stream",
     "text": [
      "Vantas por clasificación ESRB en Japón\n",
      "rating\n",
      "E          570.80\n",
      "T          522.99\n",
      "M           71.70\n",
      "E10+        36.76\n",
      "K-A          1.46\n",
      "EC           0.00\n",
      "RP           0.00\n",
      "Unknown      0.00\n",
      "Name: jp_sales, dtype: float64\n"
     ]
    }
   ],
   "source": [
    "#ventas por clasificación de ESRB en Japón\n",
    "jp_rating_sales= data.groupby(\"rating\")[\"jp_sales\"].sum().sort_values(ascending= False)\n",
    "print(\"Vantas por clasificación ESRB en Japón\")\n",
    "print(jp_rating_sales)"
   ]
  },
  {
   "cell_type": "markdown",
   "metadata": {},
   "source": [
    "#### Ventas por clasificadas por ESRB en general:\n",
    "\n",
    "   - E(EVERYONE): Las ventas son más altas en Norteamérica.\n",
    "   \n",
    "\n",
    "   - Unknown: Una gran cantidadad de videojuegos que no esta registrada.\n",
    "   \n",
    "\n",
    "   - T(TEEN): Los juegos para adolecentes tambien tienen una cantidad considerable de ventas.\n",
    "   \n",
    "\n",
    "   - M(MATURE): Las ventas son más bajas que las categorias anteriores. \n",
    "\n",
    "\n"
   ]
  },
  {
   "cell_type": "code",
   "execution_count": 30,
   "metadata": {},
   "outputs": [
    {
     "name": "stdout",
     "output_type": "stream",
     "text": [
      "Estadístico de Levene: 0.3402639483237508\n",
      "Valor p de Levene: 0.559921801120867\n",
      "No rechazamos la hipótesis nula: las varianzas son iguales\n"
     ]
    }
   ],
   "source": [
    "# Seleccionar las puntuaciones de Xbox One y PC\n",
    "xbox_one_scores = data[data['platform'] == \"XOne\"]['user_score'].dropna()\n",
    "pc_scores = data[data['platform'] == \"PC\"]['user_score'].dropna()\n",
    "\n",
    "# Realizar la prueba de Levene\n",
    "stat, p = levene(xbox_one_scores, pc_scores)\n",
    "\n",
    "# Mostrar resultados de la prueba de Levene\n",
    "print(f\"Estadístico de Levene: {stat}\")\n",
    "print(f\"Valor p de Levene: {p}\")\n",
    "\n",
    "# Determinar si las varianzas son iguales\n",
    "if p < 0.05:\n",
    "    print(\"Rechazamos la hipótesis nula: las varianzas no son iguales\")\n",
    "    equal_var = False\n",
    "else:\n",
    "    print(\"No rechazamos la hipótesis nula: las varianzas son iguales\")\n",
    "    equal_var = True\n",
    "\n",
    "    \n",
    "    "
   ]
  },
  {
   "cell_type": "code",
   "execution_count": 31,
   "metadata": {},
   "outputs": [
    {
     "name": "stdout",
     "output_type": "stream",
     "text": [
      "Estadístico t: -2.042372149344156\n",
      "Valor p: 0.04160252115256139\n",
      "Rechazamos la hipótesis nula: ya que las clasificaciones promedio para las plataformas Xbox One y PC son diferentes\n"
     ]
    }
   ],
   "source": [
    "# Prueba t de Student con el valor de equal_var determinado por la prueba de Levene\n",
    "t_stat, p_value = stats.ttest_ind(xbox_one_scores, pc_scores, equal_var=equal_var)\n",
    "\n",
    "print(f\"Estadístico t: {t_stat}\")\n",
    "print(f\"Valor p: {p_value}\")\n",
    "\n",
    "# Se toma alpha como 0.05\n",
    "alpha = 0.05\n",
    "\n",
    "if p_value < alpha:\n",
    "    print(\"Rechazamos la hipótesis nula: ya que las clasificaciones promedio para las plataformas Xbox One y PC son diferentes\")\n",
    "else:\n",
    "    print(\"No rechazamos la hipótesis nula: las clasificaciones promedio para las plataformas Xbox One y PC son las mismas\")\n"
   ]
  },
  {
   "cell_type": "code",
   "execution_count": 32,
   "metadata": {},
   "outputs": [
    {
     "name": "stdout",
     "output_type": "stream",
     "text": [
      "Estadístico de Levene: 2.241783140462987\n",
      "Valor p de Levene: 0.13442065916718382\n",
      "No rechazamos la hipótesis nula: las varianzas son iguales\n",
      "Estadístico t: 0.2562165213306425\n",
      "Valor p: 0.7977994596313545\n",
      "No rechazamos la hipótesis nula: las clasificaciones promedio para los géneros Acción y Deporte son las mismas\n"
     ]
    }
   ],
   "source": [
    "# Seleccionar las puntuaciones de los géneros Acción y Deportes\n",
    "action_scores = data[data['genre'] == \"Action\"]['user_score'].dropna()\n",
    "sports_scores = data[data['genre'] == \"Sports\"]['user_score'].dropna()\n",
    "\n",
    "# Realizar la prueba de Levene\n",
    "stat, p = levene(action_scores, sports_scores)\n",
    "\n",
    "# Mostrar resultados de la prueba de Levene\n",
    "print(f\"Estadístico de Levene: {stat}\")\n",
    "print(f\"Valor p de Levene: {p}\")\n",
    "\n",
    "# Determinar si las varianzas son iguales\n",
    "if p < 0.05:\n",
    "    print(\"Rechazamos la hipótesis nula: las varianzas no son iguales\")\n",
    "    equal_var = False\n",
    "else:\n",
    "    print(\"No rechazamos la hipótesis nula: las varianzas son iguales\")\n",
    "    equal_var = True\n",
    "\n",
    "# Prueba t de Student con el valor de equal_var determinado por la prueba de Levene\n",
    "t_stat, p_value = stats.ttest_ind(action_scores, sports_scores, equal_var=equal_var)\n",
    "\n",
    "print(f\"Estadístico t: {t_stat}\")\n",
    "print(f\"Valor p: {p_value}\")\n",
    "\n",
    "# Se toma alpha como 0.05\n",
    "alpha = 0.05\n",
    "\n",
    "if p_value < alpha:\n",
    "    print(\"Rechazamos la hipótesis nula: ya que las clasificaciones promedio para los géneros Acción y Deporte son diferentes\")\n",
    "else:\n",
    "    print(\"No rechazamos la hipótesis nula: las clasificaciones promedio para los géneros Acción y Deporte son las mismas\")\n"
   ]
  },
  {
   "cell_type": "markdown",
   "metadata": {},
   "source": [
    "Basándonos en los resultados de las pruebas de hipótesis para las plataformas Xbox One y PC, así como para los géneros Acción y Deportes, podemos concluir lo siguiente:\n",
    "\n",
    "   - Plataformas Xbox One y PC:\n",
    "\n",
    "    - Las varianzas de las puntuaciones de los usuarios para Xbox One y PC son iguales.\n",
    "\n",
    "    - Por lo tanto, las clasificaciones promedio para estas plataformas son similares.\n",
    "\n",
    "\n",
    "   - Géneros Acción y Deportes:\n",
    "\n",
    "    - Las varianzas de las puntuaciones de los usuarios para los géneros Acción y Deportes son iguales.\n",
    "\n",
    "    - Las clasificaciones promedio para estos géneros son similares.\n",
    "\n",
    "\n",
    "\n",
    "Estas conclusiones indican que, en general, las clasificaciones de los usuarios no varían significativamente entre las plataformas Xbox One y PC, ni entre los géneros Acción y Deport"
   ]
  },
  {
   "cell_type": "markdown",
   "metadata": {},
   "source": [
    "#### Resumen de hallazgos clave:\n",
    "\n",
    "1. Plataformas líderes por región:\n",
    "   - Norteamérica (NA): PS2, Wii, X360, PS3, DS\n",
    "   - Europa (EU): PS2, PS3, Wii, X360, DS\n",
    "   - Japón (JP): DS, PS2, PS, SNES, 3DS\n",
    "\n",
    "2. Géneros principales por región:\n",
    "   - Norteamérica (NA): Acción, Deportes, Shooter, Misceláneo, Plataforma\n",
    "   - Europa (EU): Acción, Deportes, Shooter, Carrera, Misceláneo\n",
    "   - Japón (JP): Rol, Acción, Shooter, Misceláneo, Plataforma\n",
    "\n",
    "3. Impacto de las clasificaciones ESRB:\n",
    "   - Norteamérica y Europa: Las clasificaciones \"E\" (Everyone) tienen las mayores ventas, seguidas por \"T\" (Teen) y \"M\" (Mature).\n",
    "   - Japón: Una gran cantidad de ventas provienen de juegos sin clasificación especificada, lo que podría reflejar diferencias en el uso o registro de clasificaciones ESRB.\n",
    "\n",
    "4. Pruebas de Hipótesis:\n",
    "   - Calificaciones de usuarios para Xbox One y PC: Las calificaciones promedio son significativamente diferentes.\n",
    "   - Calificaciones de usuarios para los géneros de Acción y Deportes: No hay diferencias significativas en las calificaciones promedio.\n",
    "\n",
    "\n"
   ]
  },
  {
   "cell_type": "markdown",
   "metadata": {},
   "source": [
    "#### recomendaciones basadas en el analisis\n",
    "\n",
    "1. Estrategia de Marketing:\n",
    "   - Enfocar campañas publicitarias en juegos clasificados como \"E\" (Everyone), especialmente en Norteamérica y Europa.\n",
    "   - Desarrollar y promover más juegosde \"Role-Playing\" para la PS2, Wii, y DS en Japón, dado su alto rendimiento en ventas.\n",
    "\n",
    "2. Desarrollo de Juegos:\n",
    "   - Fomentar el desarrollo de juegos de Acción y Deportes, que son géneros populares en todas las regiones.\n",
    "   - Investigar las razones detrás de la alta proporción de ventas de juegos sin clasificación en Japón y considerar estrategias para adaptarse a este mercado.\n",
    "\n"
   ]
  }
 ],
 "metadata": {
  "ExecuteTimeLog": [
   {
    "duration": 13,
    "start_time": "2024-07-08T22:52:51.757Z"
   },
   {
    "duration": 451,
    "start_time": "2024-07-08T22:52:55.527Z"
   },
   {
    "duration": 5,
    "start_time": "2024-07-08T22:52:57.870Z"
   },
   {
    "duration": 56,
    "start_time": "2024-07-08T22:53:12.171Z"
   },
   {
    "duration": 24,
    "start_time": "2024-07-08T22:54:20.260Z"
   },
   {
    "duration": 17,
    "start_time": "2024-07-08T22:55:34.026Z"
   },
   {
    "duration": 23,
    "start_time": "2024-07-08T22:55:40.792Z"
   },
   {
    "duration": 20,
    "start_time": "2024-07-08T22:57:06.054Z"
   },
   {
    "duration": 158,
    "start_time": "2024-07-08T23:08:47.627Z"
   },
   {
    "duration": 18,
    "start_time": "2024-07-08T23:09:01.215Z"
   },
   {
    "duration": 5,
    "start_time": "2024-07-08T23:09:17.297Z"
   },
   {
    "duration": 7,
    "start_time": "2024-07-08T23:11:31.209Z"
   },
   {
    "duration": 226,
    "start_time": "2024-07-08T23:11:46.951Z"
   },
   {
    "duration": 5,
    "start_time": "2024-07-08T23:12:15.947Z"
   },
   {
    "duration": 22,
    "start_time": "2024-07-08T23:12:30.597Z"
   },
   {
    "duration": 25,
    "start_time": "2024-07-08T23:15:10.871Z"
   },
   {
    "duration": 30,
    "start_time": "2024-07-08T23:15:29.463Z"
   },
   {
    "duration": 22,
    "start_time": "2024-07-08T23:16:12.934Z"
   },
   {
    "duration": 21,
    "start_time": "2024-07-08T23:16:25.138Z"
   },
   {
    "duration": 25,
    "start_time": "2024-07-08T23:19:13.302Z"
   },
   {
    "duration": 21,
    "start_time": "2024-07-08T23:20:49.598Z"
   },
   {
    "duration": 24,
    "start_time": "2024-07-08T23:20:54.139Z"
   },
   {
    "duration": 22,
    "start_time": "2024-07-08T23:20:59.759Z"
   },
   {
    "duration": 38,
    "start_time": "2024-07-08T23:21:02.180Z"
   },
   {
    "duration": 3,
    "start_time": "2024-07-08T23:21:03.383Z"
   },
   {
    "duration": 36,
    "start_time": "2024-07-08T23:21:05.331Z"
   },
   {
    "duration": 17,
    "start_time": "2024-07-08T23:21:05.676Z"
   },
   {
    "duration": 19,
    "start_time": "2024-07-08T23:21:06.022Z"
   },
   {
    "duration": 13,
    "start_time": "2024-07-08T23:21:08.519Z"
   },
   {
    "duration": 5,
    "start_time": "2024-07-08T23:21:09.735Z"
   },
   {
    "duration": 21,
    "start_time": "2024-07-08T23:25:19.630Z"
   },
   {
    "duration": 7,
    "start_time": "2024-07-08T23:27:55.836Z"
   },
   {
    "duration": 5,
    "start_time": "2024-07-08T23:28:02.162Z"
   },
   {
    "duration": 6,
    "start_time": "2024-07-08T23:28:06.472Z"
   },
   {
    "duration": 18,
    "start_time": "2024-07-08T23:28:32.247Z"
   },
   {
    "duration": 17,
    "start_time": "2024-07-08T23:28:40.826Z"
   },
   {
    "duration": 17,
    "start_time": "2024-07-09T00:20:03.033Z"
   },
   {
    "duration": 20,
    "start_time": "2024-07-09T00:24:25.317Z"
   },
   {
    "duration": 5,
    "start_time": "2024-07-09T00:24:35.548Z"
   },
   {
    "duration": 1197,
    "start_time": "2024-07-09T00:26:07.291Z"
   },
   {
    "duration": 123,
    "start_time": "2024-07-09T00:26:47.203Z"
   },
   {
    "duration": 3,
    "start_time": "2024-07-09T00:37:13.710Z"
   },
   {
    "duration": 37,
    "start_time": "2024-07-09T00:37:14.325Z"
   },
   {
    "duration": 18,
    "start_time": "2024-07-09T00:37:14.884Z"
   },
   {
    "duration": 19,
    "start_time": "2024-07-09T00:37:15.390Z"
   },
   {
    "duration": 5,
    "start_time": "2024-07-09T00:37:16.455Z"
   },
   {
    "duration": 19,
    "start_time": "2024-07-09T00:37:16.806Z"
   },
   {
    "duration": 97,
    "start_time": "2024-07-09T00:37:17.046Z"
   },
   {
    "duration": 121,
    "start_time": "2024-07-09T00:38:19.261Z"
   },
   {
    "duration": 101,
    "start_time": "2024-07-09T00:41:18.359Z"
   },
   {
    "duration": 46,
    "start_time": "2024-07-09T00:41:43.168Z"
   },
   {
    "duration": 8,
    "start_time": "2024-07-09T00:41:48.151Z"
   },
   {
    "duration": 9,
    "start_time": "2024-07-09T00:41:49.910Z"
   },
   {
    "duration": 7,
    "start_time": "2024-07-09T00:41:54.104Z"
   },
   {
    "duration": 22,
    "start_time": "2024-07-09T00:43:29.838Z"
   },
   {
    "duration": 27,
    "start_time": "2024-07-09T00:43:41.230Z"
   },
   {
    "duration": 7,
    "start_time": "2024-07-09T00:57:54.953Z"
   },
   {
    "duration": 20,
    "start_time": "2024-07-09T00:58:13.273Z"
   },
   {
    "duration": 20,
    "start_time": "2024-07-09T00:58:39.180Z"
   },
   {
    "duration": 30,
    "start_time": "2024-07-09T01:05:54.383Z"
   },
   {
    "duration": 55,
    "start_time": "2024-07-09T01:06:03.462Z"
   },
   {
    "duration": 42,
    "start_time": "2024-07-09T01:06:07.992Z"
   },
   {
    "duration": 52,
    "start_time": "2024-07-09T01:07:27.934Z"
   },
   {
    "duration": 28,
    "start_time": "2024-07-09T01:11:56.727Z"
   },
   {
    "duration": 34,
    "start_time": "2024-07-09T01:12:06.409Z"
   },
   {
    "duration": 32,
    "start_time": "2024-07-09T01:12:17.056Z"
   },
   {
    "duration": 32,
    "start_time": "2024-07-09T01:12:50.820Z"
   },
   {
    "duration": 23,
    "start_time": "2024-07-09T01:13:00.046Z"
   },
   {
    "duration": 22,
    "start_time": "2024-07-09T01:13:18.460Z"
   },
   {
    "duration": 24,
    "start_time": "2024-07-09T01:13:53.071Z"
   },
   {
    "duration": 7,
    "start_time": "2024-07-09T01:14:46.452Z"
   },
   {
    "duration": 23,
    "start_time": "2024-07-09T01:14:54.513Z"
   },
   {
    "duration": 23,
    "start_time": "2024-07-09T01:20:03.401Z"
   },
   {
    "duration": 21,
    "start_time": "2024-07-09T01:20:11.864Z"
   },
   {
    "duration": 82,
    "start_time": "2024-07-09T01:40:48.445Z"
   },
   {
    "duration": 39,
    "start_time": "2024-07-09T01:40:48.893Z"
   },
   {
    "duration": 18,
    "start_time": "2024-07-09T01:40:49.453Z"
   },
   {
    "duration": 20,
    "start_time": "2024-07-09T01:40:49.828Z"
   },
   {
    "duration": 5,
    "start_time": "2024-07-09T01:40:50.692Z"
   },
   {
    "duration": 25,
    "start_time": "2024-07-09T01:40:51.121Z"
   },
   {
    "duration": 29,
    "start_time": "2024-07-09T01:40:51.521Z"
   },
   {
    "duration": 18,
    "start_time": "2024-07-09T01:40:51.932Z"
   },
   {
    "duration": 18,
    "start_time": "2024-07-09T01:40:52.328Z"
   },
   {
    "duration": 41,
    "start_time": "2024-07-09T01:40:52.714Z"
   },
   {
    "duration": 26,
    "start_time": "2024-07-09T01:40:53.114Z"
   },
   {
    "duration": 23,
    "start_time": "2024-07-09T01:40:53.954Z"
   },
   {
    "duration": 6,
    "start_time": "2024-07-09T01:42:11.492Z"
   },
   {
    "duration": 18,
    "start_time": "2024-07-09T01:43:34.597Z"
   },
   {
    "duration": 28,
    "start_time": "2024-07-09T02:11:21.804Z"
   },
   {
    "duration": 20,
    "start_time": "2024-07-09T02:11:41.833Z"
   },
   {
    "duration": 37,
    "start_time": "2024-07-09T02:11:42.154Z"
   },
   {
    "duration": 23,
    "start_time": "2024-07-09T02:11:42.444Z"
   },
   {
    "duration": 21,
    "start_time": "2024-07-09T02:11:45.909Z"
   },
   {
    "duration": 3,
    "start_time": "2024-07-09T02:12:06.540Z"
   },
   {
    "duration": 36,
    "start_time": "2024-07-09T02:12:06.546Z"
   },
   {
    "duration": 39,
    "start_time": "2024-07-09T02:12:06.585Z"
   },
   {
    "duration": 19,
    "start_time": "2024-07-09T02:12:06.627Z"
   },
   {
    "duration": 5,
    "start_time": "2024-07-09T02:12:08.079Z"
   },
   {
    "duration": 19,
    "start_time": "2024-07-09T02:12:08.455Z"
   },
   {
    "duration": 34,
    "start_time": "2024-07-09T02:12:08.911Z"
   },
   {
    "duration": 19,
    "start_time": "2024-07-09T02:12:09.389Z"
   },
   {
    "duration": 18,
    "start_time": "2024-07-09T02:12:09.777Z"
   },
   {
    "duration": 40,
    "start_time": "2024-07-09T02:12:10.180Z"
   },
   {
    "duration": 26,
    "start_time": "2024-07-09T02:12:10.613Z"
   },
   {
    "duration": 22,
    "start_time": "2024-07-09T02:12:11.193Z"
   },
   {
    "duration": 596,
    "start_time": "2024-07-09T02:12:12.447Z"
   },
   {
    "duration": 3,
    "start_time": "2024-07-09T02:22:40.786Z"
   },
   {
    "duration": 6,
    "start_time": "2024-07-09T02:25:19.801Z"
   },
   {
    "duration": 7,
    "start_time": "2024-07-09T02:33:40.594Z"
   },
   {
    "duration": 417,
    "start_time": "2024-07-09T02:34:06.498Z"
   },
   {
    "duration": 35,
    "start_time": "2024-07-09T03:01:17.025Z"
   },
   {
    "duration": 9,
    "start_time": "2024-07-09T03:01:33.460Z"
   },
   {
    "duration": 910,
    "start_time": "2024-07-09T03:01:38.978Z"
   },
   {
    "duration": 384,
    "start_time": "2024-07-09T03:02:59.294Z"
   },
   {
    "duration": 304,
    "start_time": "2024-07-09T03:03:59.916Z"
   },
   {
    "duration": 351,
    "start_time": "2024-07-09T03:04:27.191Z"
   },
   {
    "duration": 4,
    "start_time": "2024-07-09T03:07:43.165Z"
   },
   {
    "duration": 5,
    "start_time": "2024-07-09T03:12:20.262Z"
   },
   {
    "duration": 5,
    "start_time": "2024-07-09T03:12:20.818Z"
   },
   {
    "duration": 305,
    "start_time": "2024-07-09T03:12:21.415Z"
   },
   {
    "duration": 7,
    "start_time": "2024-07-09T03:13:05.089Z"
   },
   {
    "duration": 337,
    "start_time": "2024-07-09T03:13:07.136Z"
   },
   {
    "duration": 7,
    "start_time": "2024-07-09T03:13:24.278Z"
   },
   {
    "duration": 311,
    "start_time": "2024-07-09T03:13:25.080Z"
   },
   {
    "duration": 350,
    "start_time": "2024-07-09T03:15:05.265Z"
   },
   {
    "duration": 7,
    "start_time": "2024-07-09T03:15:37.329Z"
   },
   {
    "duration": 376,
    "start_time": "2024-07-09T03:15:37.737Z"
   },
   {
    "duration": 337,
    "start_time": "2024-07-09T03:18:19.645Z"
   },
   {
    "duration": 345,
    "start_time": "2024-07-09T03:18:32.046Z"
   },
   {
    "duration": 842,
    "start_time": "2024-07-09T03:20:34.285Z"
   },
   {
    "duration": 989,
    "start_time": "2024-07-09T03:20:42.607Z"
   },
   {
    "duration": 8,
    "start_time": "2024-07-09T03:23:08.435Z"
   },
   {
    "duration": 8,
    "start_time": "2024-07-09T03:44:26.596Z"
   },
   {
    "duration": 324,
    "start_time": "2024-07-09T03:44:26.910Z"
   },
   {
    "duration": 797,
    "start_time": "2024-07-09T03:44:27.242Z"
   },
   {
    "duration": 23,
    "start_time": "2024-07-09T03:51:15.636Z"
   },
   {
    "duration": 9,
    "start_time": "2024-07-09T03:51:16.046Z"
   },
   {
    "duration": 412,
    "start_time": "2024-07-09T03:51:16.862Z"
   },
   {
    "duration": 424,
    "start_time": "2024-07-09T03:51:19.574Z"
   },
   {
    "duration": 5,
    "start_time": "2024-07-09T03:51:20.846Z"
   },
   {
    "duration": 762,
    "start_time": "2024-07-09T03:51:21.647Z"
   },
   {
    "duration": 6,
    "start_time": "2024-07-09T04:37:55.001Z"
   },
   {
    "duration": 9,
    "start_time": "2024-07-09T04:38:10.505Z"
   },
   {
    "duration": 10,
    "start_time": "2024-07-09T04:43:43.415Z"
   },
   {
    "duration": 6,
    "start_time": "2024-07-09T04:44:11.640Z"
   },
   {
    "duration": 30,
    "start_time": "2024-07-09T04:44:17.608Z"
   },
   {
    "duration": 6,
    "start_time": "2024-07-09T04:44:52.131Z"
   },
   {
    "duration": 8,
    "start_time": "2024-07-09T04:44:58.044Z"
   },
   {
    "duration": 9,
    "start_time": "2024-07-09T04:45:04.037Z"
   },
   {
    "duration": 9,
    "start_time": "2024-07-09T04:47:51.601Z"
   },
   {
    "duration": 9,
    "start_time": "2024-07-09T04:48:12.953Z"
   },
   {
    "duration": 9,
    "start_time": "2024-07-09T04:48:29.458Z"
   },
   {
    "duration": 8,
    "start_time": "2024-07-09T04:52:18.273Z"
   },
   {
    "duration": 30,
    "start_time": "2024-07-09T04:55:16.012Z"
   },
   {
    "duration": 9,
    "start_time": "2024-07-09T04:55:23.254Z"
   },
   {
    "duration": 9,
    "start_time": "2024-07-09T04:58:24.135Z"
   },
   {
    "duration": 30,
    "start_time": "2024-07-09T05:02:37.538Z"
   },
   {
    "duration": 10,
    "start_time": "2024-07-09T05:02:46.332Z"
   },
   {
    "duration": 8,
    "start_time": "2024-07-09T05:02:56.273Z"
   },
   {
    "duration": 22,
    "start_time": "2024-07-09T05:05:44.597Z"
   },
   {
    "duration": 7,
    "start_time": "2024-07-09T05:08:00.127Z"
   },
   {
    "duration": 16,
    "start_time": "2024-07-09T05:08:13.021Z"
   },
   {
    "duration": 21,
    "start_time": "2024-07-09T05:09:12.667Z"
   },
   {
    "duration": 17,
    "start_time": "2024-07-09T05:09:19.796Z"
   },
   {
    "duration": 9,
    "start_time": "2024-07-09T06:19:24.190Z"
   },
   {
    "duration": 83,
    "start_time": "2024-07-09T07:41:16.299Z"
   },
   {
    "duration": 31,
    "start_time": "2024-07-09T07:41:33.692Z"
   },
   {
    "duration": 31,
    "start_time": "2024-07-09T07:43:11.834Z"
   },
   {
    "duration": 31,
    "start_time": "2024-07-09T07:43:19.923Z"
   },
   {
    "duration": 623,
    "start_time": "2024-07-09T07:43:27.357Z"
   },
   {
    "duration": 81,
    "start_time": "2024-07-09T07:43:40.692Z"
   },
   {
    "duration": 12,
    "start_time": "2024-07-09T07:44:05.662Z"
   },
   {
    "duration": 10,
    "start_time": "2024-07-09T07:47:55.528Z"
   },
   {
    "duration": 13,
    "start_time": "2024-07-09T07:54:09.711Z"
   },
   {
    "duration": 11,
    "start_time": "2024-07-09T07:54:20.629Z"
   },
   {
    "duration": 1129,
    "start_time": "2024-07-09T08:29:53.325Z"
   },
   {
    "duration": 38,
    "start_time": "2024-07-09T08:29:54.459Z"
   },
   {
    "duration": 20,
    "start_time": "2024-07-09T08:29:54.508Z"
   },
   {
    "duration": 29,
    "start_time": "2024-07-09T08:29:54.531Z"
   },
   {
    "duration": 8,
    "start_time": "2024-07-09T08:29:54.566Z"
   },
   {
    "duration": 52,
    "start_time": "2024-07-09T08:29:54.577Z"
   },
   {
    "duration": 31,
    "start_time": "2024-07-09T08:29:54.632Z"
   },
   {
    "duration": 54,
    "start_time": "2024-07-09T08:29:54.666Z"
   },
   {
    "duration": 20,
    "start_time": "2024-07-09T08:29:54.723Z"
   },
   {
    "duration": 69,
    "start_time": "2024-07-09T08:29:54.745Z"
   },
   {
    "duration": 27,
    "start_time": "2024-07-09T08:29:54.819Z"
   },
   {
    "duration": 23,
    "start_time": "2024-07-09T08:29:54.849Z"
   },
   {
    "duration": 36,
    "start_time": "2024-07-09T08:29:54.874Z"
   },
   {
    "duration": 430,
    "start_time": "2024-07-09T08:29:54.917Z"
   },
   {
    "duration": 415,
    "start_time": "2024-07-09T08:29:55.349Z"
   },
   {
    "duration": 5,
    "start_time": "2024-07-09T08:29:55.767Z"
   },
   {
    "duration": 812,
    "start_time": "2024-07-09T08:29:55.774Z"
   },
   {
    "duration": 18,
    "start_time": "2024-07-09T08:29:56.591Z"
   },
   {
    "duration": 9,
    "start_time": "2024-07-09T08:29:56.612Z"
   },
   {
    "duration": 9,
    "start_time": "2024-07-09T08:29:56.625Z"
   },
   {
    "duration": 8,
    "start_time": "2024-07-09T08:29:56.637Z"
   },
   {
    "duration": 9,
    "start_time": "2024-07-09T08:29:56.648Z"
   },
   {
    "duration": 52,
    "start_time": "2024-07-09T08:29:56.660Z"
   },
   {
    "duration": 9,
    "start_time": "2024-07-09T08:29:56.716Z"
   },
   {
    "duration": 9,
    "start_time": "2024-07-09T08:29:56.728Z"
   },
   {
    "duration": 9,
    "start_time": "2024-07-09T08:29:56.740Z"
   },
   {
    "duration": 61,
    "start_time": "2024-07-09T08:29:56.752Z"
   },
   {
    "duration": 14,
    "start_time": "2024-07-09T08:29:56.816Z"
   },
   {
    "duration": 1166,
    "start_time": "2024-07-09T08:31:53.996Z"
   },
   {
    "duration": 47,
    "start_time": "2024-07-09T08:31:55.166Z"
   },
   {
    "duration": 18,
    "start_time": "2024-07-09T08:31:55.220Z"
   },
   {
    "duration": 23,
    "start_time": "2024-07-09T08:31:55.243Z"
   },
   {
    "duration": 5,
    "start_time": "2024-07-09T08:31:55.269Z"
   },
   {
    "duration": 51,
    "start_time": "2024-07-09T08:31:55.277Z"
   },
   {
    "duration": 29,
    "start_time": "2024-07-09T08:31:55.332Z"
   },
   {
    "duration": 54,
    "start_time": "2024-07-09T08:31:55.364Z"
   },
   {
    "duration": 20,
    "start_time": "2024-07-09T08:31:55.420Z"
   },
   {
    "duration": 63,
    "start_time": "2024-07-09T08:31:55.446Z"
   },
   {
    "duration": 29,
    "start_time": "2024-07-09T08:31:55.512Z"
   },
   {
    "duration": 23,
    "start_time": "2024-07-09T08:31:55.544Z"
   },
   {
    "duration": 39,
    "start_time": "2024-07-09T08:31:55.569Z"
   },
   {
    "duration": 416,
    "start_time": "2024-07-09T08:31:55.612Z"
   },
   {
    "duration": 412,
    "start_time": "2024-07-09T08:31:56.031Z"
   },
   {
    "duration": 6,
    "start_time": "2024-07-09T08:31:56.445Z"
   },
   {
    "duration": 803,
    "start_time": "2024-07-09T08:31:56.454Z"
   },
   {
    "duration": 9,
    "start_time": "2024-07-09T08:31:57.260Z"
   },
   {
    "duration": 9,
    "start_time": "2024-07-09T08:31:57.273Z"
   },
   {
    "duration": 10,
    "start_time": "2024-07-09T08:31:57.308Z"
   },
   {
    "duration": 9,
    "start_time": "2024-07-09T08:31:57.325Z"
   },
   {
    "duration": 11,
    "start_time": "2024-07-09T08:31:57.337Z"
   },
   {
    "duration": 15,
    "start_time": "2024-07-09T08:31:57.350Z"
   },
   {
    "duration": 45,
    "start_time": "2024-07-09T08:31:57.369Z"
   },
   {
    "duration": 10,
    "start_time": "2024-07-09T08:31:57.418Z"
   },
   {
    "duration": 11,
    "start_time": "2024-07-09T08:31:57.431Z"
   },
   {
    "duration": 14,
    "start_time": "2024-07-09T08:31:57.445Z"
   },
   {
    "duration": 13,
    "start_time": "2024-07-09T08:31:57.509Z"
   },
   {
    "duration": 6,
    "start_time": "2024-07-09T08:33:18.446Z"
   },
   {
    "duration": 1096,
    "start_time": "2024-07-09T08:33:25.574Z"
   },
   {
    "duration": 49,
    "start_time": "2024-07-09T08:33:26.674Z"
   },
   {
    "duration": 19,
    "start_time": "2024-07-09T08:33:26.726Z"
   },
   {
    "duration": 23,
    "start_time": "2024-07-09T08:33:26.748Z"
   },
   {
    "duration": 32,
    "start_time": "2024-07-09T08:33:26.777Z"
   },
   {
    "duration": 19,
    "start_time": "2024-07-09T08:33:26.813Z"
   },
   {
    "duration": 30,
    "start_time": "2024-07-09T08:33:26.835Z"
   },
   {
    "duration": 51,
    "start_time": "2024-07-09T08:33:26.868Z"
   },
   {
    "duration": 20,
    "start_time": "2024-07-09T08:33:26.922Z"
   },
   {
    "duration": 65,
    "start_time": "2024-07-09T08:33:26.945Z"
   },
   {
    "duration": 26,
    "start_time": "2024-07-09T08:33:27.014Z"
   },
   {
    "duration": 25,
    "start_time": "2024-07-09T08:33:27.044Z"
   },
   {
    "duration": 38,
    "start_time": "2024-07-09T08:33:27.071Z"
   },
   {
    "duration": 426,
    "start_time": "2024-07-09T08:33:27.115Z"
   },
   {
    "duration": 414,
    "start_time": "2024-07-09T08:33:27.544Z"
   },
   {
    "duration": 4,
    "start_time": "2024-07-09T08:33:27.961Z"
   },
   {
    "duration": 807,
    "start_time": "2024-07-09T08:33:27.968Z"
   },
   {
    "duration": 10,
    "start_time": "2024-07-09T08:33:28.778Z"
   },
   {
    "duration": 10,
    "start_time": "2024-07-09T08:33:28.809Z"
   },
   {
    "duration": 10,
    "start_time": "2024-07-09T08:33:28.822Z"
   },
   {
    "duration": 10,
    "start_time": "2024-07-09T08:33:28.835Z"
   },
   {
    "duration": 9,
    "start_time": "2024-07-09T08:33:28.847Z"
   },
   {
    "duration": 51,
    "start_time": "2024-07-09T08:33:28.862Z"
   },
   {
    "duration": 9,
    "start_time": "2024-07-09T08:33:28.916Z"
   },
   {
    "duration": 9,
    "start_time": "2024-07-09T08:33:28.929Z"
   },
   {
    "duration": 9,
    "start_time": "2024-07-09T08:33:28.941Z"
   },
   {
    "duration": 59,
    "start_time": "2024-07-09T08:33:28.953Z"
   },
   {
    "duration": 14,
    "start_time": "2024-07-09T08:33:29.015Z"
   },
   {
    "duration": 1115,
    "start_time": "2024-07-09T08:41:24.661Z"
   },
   {
    "duration": 46,
    "start_time": "2024-07-09T08:41:25.781Z"
   },
   {
    "duration": 20,
    "start_time": "2024-07-09T08:41:25.829Z"
   },
   {
    "duration": 23,
    "start_time": "2024-07-09T08:41:25.852Z"
   },
   {
    "duration": 5,
    "start_time": "2024-07-09T08:41:25.908Z"
   },
   {
    "duration": 20,
    "start_time": "2024-07-09T08:41:25.917Z"
   },
   {
    "duration": 29,
    "start_time": "2024-07-09T08:41:25.940Z"
   },
   {
    "duration": 51,
    "start_time": "2024-07-09T08:41:25.972Z"
   },
   {
    "duration": 20,
    "start_time": "2024-07-09T08:41:26.026Z"
   },
   {
    "duration": 69,
    "start_time": "2024-07-09T08:41:26.048Z"
   },
   {
    "duration": 28,
    "start_time": "2024-07-09T08:41:26.120Z"
   },
   {
    "duration": 22,
    "start_time": "2024-07-09T08:41:26.151Z"
   },
   {
    "duration": 36,
    "start_time": "2024-07-09T08:41:26.176Z"
   },
   {
    "duration": 423,
    "start_time": "2024-07-09T08:41:26.220Z"
   },
   {
    "duration": 413,
    "start_time": "2024-07-09T08:41:26.647Z"
   },
   {
    "duration": 5,
    "start_time": "2024-07-09T08:41:27.063Z"
   },
   {
    "duration": 830,
    "start_time": "2024-07-09T08:41:27.071Z"
   },
   {
    "duration": 10,
    "start_time": "2024-07-09T08:41:27.908Z"
   },
   {
    "duration": 9,
    "start_time": "2024-07-09T08:41:27.921Z"
   },
   {
    "duration": 9,
    "start_time": "2024-07-09T08:41:27.933Z"
   },
   {
    "duration": 10,
    "start_time": "2024-07-09T08:41:27.946Z"
   },
   {
    "duration": 54,
    "start_time": "2024-07-09T08:41:27.959Z"
   },
   {
    "duration": 10,
    "start_time": "2024-07-09T08:41:28.016Z"
   },
   {
    "duration": 10,
    "start_time": "2024-07-09T08:41:28.029Z"
   },
   {
    "duration": 9,
    "start_time": "2024-07-09T08:41:28.041Z"
   },
   {
    "duration": 58,
    "start_time": "2024-07-09T08:41:28.053Z"
   },
   {
    "duration": 15,
    "start_time": "2024-07-09T08:41:28.114Z"
   },
   {
    "duration": 13,
    "start_time": "2024-07-09T08:41:28.132Z"
   },
   {
    "duration": 1139,
    "start_time": "2024-07-09T08:46:21.714Z"
   },
   {
    "duration": 38,
    "start_time": "2024-07-09T08:46:22.857Z"
   },
   {
    "duration": 27,
    "start_time": "2024-07-09T08:46:22.897Z"
   },
   {
    "duration": 24,
    "start_time": "2024-07-09T08:46:22.929Z"
   },
   {
    "duration": 6,
    "start_time": "2024-07-09T08:46:22.956Z"
   },
   {
    "duration": 58,
    "start_time": "2024-07-09T08:46:22.965Z"
   },
   {
    "duration": 29,
    "start_time": "2024-07-09T08:46:23.026Z"
   },
   {
    "duration": 50,
    "start_time": "2024-07-09T08:46:23.058Z"
   },
   {
    "duration": 20,
    "start_time": "2024-07-09T08:46:23.111Z"
   },
   {
    "duration": 40,
    "start_time": "2024-07-09T08:46:23.137Z"
   },
   {
    "duration": 49,
    "start_time": "2024-07-09T08:46:23.180Z"
   },
   {
    "duration": 25,
    "start_time": "2024-07-09T08:46:23.232Z"
   },
   {
    "duration": 7,
    "start_time": "2024-07-09T08:46:23.259Z"
   },
   {
    "duration": 448,
    "start_time": "2024-07-09T08:46:23.269Z"
   },
   {
    "duration": 413,
    "start_time": "2024-07-09T08:46:23.720Z"
   },
   {
    "duration": 5,
    "start_time": "2024-07-09T08:46:24.136Z"
   },
   {
    "duration": 832,
    "start_time": "2024-07-09T08:46:24.145Z"
   },
   {
    "duration": 9,
    "start_time": "2024-07-09T08:46:24.980Z"
   },
   {
    "duration": 10,
    "start_time": "2024-07-09T08:46:25.009Z"
   },
   {
    "duration": 11,
    "start_time": "2024-07-09T08:46:25.021Z"
   },
   {
    "duration": 9,
    "start_time": "2024-07-09T08:46:25.035Z"
   },
   {
    "duration": 8,
    "start_time": "2024-07-09T08:46:25.048Z"
   },
   {
    "duration": 54,
    "start_time": "2024-07-09T08:46:25.059Z"
   },
   {
    "duration": 13,
    "start_time": "2024-07-09T08:46:25.117Z"
   },
   {
    "duration": 10,
    "start_time": "2024-07-09T08:46:25.132Z"
   },
   {
    "duration": 9,
    "start_time": "2024-07-09T08:46:25.145Z"
   },
   {
    "duration": 58,
    "start_time": "2024-07-09T08:46:25.157Z"
   },
   {
    "duration": 13,
    "start_time": "2024-07-09T08:46:25.222Z"
   },
   {
    "duration": 325,
    "start_time": "2024-07-10T06:38:18.193Z"
   },
   {
    "duration": 4700,
    "start_time": "2024-07-10T06:38:25.458Z"
   },
   {
    "duration": 55,
    "start_time": "2024-07-10T06:38:30.162Z"
   },
   {
    "duration": 21,
    "start_time": "2024-07-10T06:38:30.219Z"
   },
   {
    "duration": 23,
    "start_time": "2024-07-10T06:38:30.244Z"
   },
   {
    "duration": 5,
    "start_time": "2024-07-10T06:38:30.270Z"
   },
   {
    "duration": 20,
    "start_time": "2024-07-10T06:38:30.312Z"
   },
   {
    "duration": 32,
    "start_time": "2024-07-10T06:38:30.335Z"
   },
   {
    "duration": 116,
    "start_time": "2024-07-10T06:38:30.370Z"
   },
   {
    "duration": 31,
    "start_time": "2024-07-10T06:38:30.488Z"
   },
   {
    "duration": 19,
    "start_time": "2024-07-10T06:38:30.526Z"
   },
   {
    "duration": 66,
    "start_time": "2024-07-10T06:38:30.548Z"
   },
   {
    "duration": 29,
    "start_time": "2024-07-10T06:38:30.617Z"
   },
   {
    "duration": 26,
    "start_time": "2024-07-10T06:38:30.649Z"
   },
   {
    "duration": 41,
    "start_time": "2024-07-10T06:38:30.677Z"
   },
   {
    "duration": 436,
    "start_time": "2024-07-10T06:38:30.720Z"
   },
   {
    "duration": 491,
    "start_time": "2024-07-10T06:38:31.159Z"
   },
   {
    "duration": 4,
    "start_time": "2024-07-10T06:38:31.654Z"
   },
   {
    "duration": 749,
    "start_time": "2024-07-10T06:38:31.661Z"
   },
   {
    "duration": 9,
    "start_time": "2024-07-10T06:38:32.414Z"
   },
   {
    "duration": 10,
    "start_time": "2024-07-10T06:38:32.426Z"
   },
   {
    "duration": 8,
    "start_time": "2024-07-10T06:38:32.439Z"
   },
   {
    "duration": 10,
    "start_time": "2024-07-10T06:38:32.450Z"
   },
   {
    "duration": 54,
    "start_time": "2024-07-10T06:38:32.463Z"
   },
   {
    "duration": 9,
    "start_time": "2024-07-10T06:38:32.521Z"
   },
   {
    "duration": 10,
    "start_time": "2024-07-10T06:38:32.533Z"
   },
   {
    "duration": 10,
    "start_time": "2024-07-10T06:38:32.546Z"
   },
   {
    "duration": 11,
    "start_time": "2024-07-10T06:38:32.612Z"
   },
   {
    "duration": 13,
    "start_time": "2024-07-10T06:38:32.630Z"
   },
   {
    "duration": 14,
    "start_time": "2024-07-10T06:38:32.646Z"
   },
   {
    "duration": 723,
    "start_time": "2024-07-10T06:45:32.335Z"
   },
   {
    "duration": 22,
    "start_time": "2024-07-10T06:48:07.092Z"
   },
   {
    "duration": 388,
    "start_time": "2024-07-10T06:48:08.082Z"
   },
   {
    "duration": 409,
    "start_time": "2024-07-10T06:48:11.410Z"
   },
   {
    "duration": 242,
    "start_time": "2024-07-10T06:49:06.516Z"
   },
   {
    "duration": 265,
    "start_time": "2024-07-10T06:49:35.220Z"
   },
   {
    "duration": 5,
    "start_time": "2024-07-10T06:49:46.548Z"
   },
   {
    "duration": 459,
    "start_time": "2024-07-10T06:50:04.630Z"
   },
   {
    "duration": 332,
    "start_time": "2024-07-10T06:57:08.272Z"
   },
   {
    "duration": 258,
    "start_time": "2024-07-10T07:09:48.292Z"
   },
   {
    "duration": 261,
    "start_time": "2024-07-10T07:10:03.861Z"
   },
   {
    "duration": 14,
    "start_time": "2024-07-10T07:24:59.582Z"
   },
   {
    "duration": 18,
    "start_time": "2024-07-10T07:25:10.958Z"
   },
   {
    "duration": 14,
    "start_time": "2024-07-10T07:25:19.452Z"
   },
   {
    "duration": 7,
    "start_time": "2024-07-10T07:25:36.590Z"
   },
   {
    "duration": 16,
    "start_time": "2024-07-10T07:26:33.200Z"
   },
   {
    "duration": 1152,
    "start_time": "2024-07-10T07:39:33.602Z"
   },
   {
    "duration": 42,
    "start_time": "2024-07-10T07:39:34.760Z"
   },
   {
    "duration": 19,
    "start_time": "2024-07-10T07:39:34.814Z"
   },
   {
    "duration": 23,
    "start_time": "2024-07-10T07:39:34.837Z"
   },
   {
    "duration": 5,
    "start_time": "2024-07-10T07:39:34.864Z"
   },
   {
    "duration": 57,
    "start_time": "2024-07-10T07:39:34.872Z"
   },
   {
    "duration": 2130,
    "start_time": "2024-07-10T07:39:34.931Z"
   },
   {
    "duration": 0,
    "start_time": "2024-07-10T07:39:37.066Z"
   },
   {
    "duration": 0,
    "start_time": "2024-07-10T07:39:37.068Z"
   },
   {
    "duration": 0,
    "start_time": "2024-07-10T07:39:37.070Z"
   },
   {
    "duration": 0,
    "start_time": "2024-07-10T07:39:37.072Z"
   },
   {
    "duration": 0,
    "start_time": "2024-07-10T07:39:37.074Z"
   },
   {
    "duration": 0,
    "start_time": "2024-07-10T07:39:37.076Z"
   },
   {
    "duration": 1,
    "start_time": "2024-07-10T07:39:37.077Z"
   },
   {
    "duration": 0,
    "start_time": "2024-07-10T07:39:37.080Z"
   },
   {
    "duration": 0,
    "start_time": "2024-07-10T07:39:37.082Z"
   },
   {
    "duration": 0,
    "start_time": "2024-07-10T07:39:37.112Z"
   },
   {
    "duration": 0,
    "start_time": "2024-07-10T07:39:37.115Z"
   },
   {
    "duration": 0,
    "start_time": "2024-07-10T07:39:37.117Z"
   },
   {
    "duration": 0,
    "start_time": "2024-07-10T07:39:37.118Z"
   },
   {
    "duration": 0,
    "start_time": "2024-07-10T07:39:37.120Z"
   },
   {
    "duration": 0,
    "start_time": "2024-07-10T07:39:37.124Z"
   },
   {
    "duration": 0,
    "start_time": "2024-07-10T07:39:37.126Z"
   },
   {
    "duration": 0,
    "start_time": "2024-07-10T07:39:37.128Z"
   },
   {
    "duration": 0,
    "start_time": "2024-07-10T07:39:37.130Z"
   },
   {
    "duration": 0,
    "start_time": "2024-07-10T07:39:37.133Z"
   },
   {
    "duration": 0,
    "start_time": "2024-07-10T07:39:37.135Z"
   },
   {
    "duration": 0,
    "start_time": "2024-07-10T07:39:37.138Z"
   },
   {
    "duration": 0,
    "start_time": "2024-07-10T07:39:37.140Z"
   },
   {
    "duration": 0,
    "start_time": "2024-07-10T07:39:37.142Z"
   },
   {
    "duration": 0,
    "start_time": "2024-07-10T07:39:37.143Z"
   },
   {
    "duration": 0,
    "start_time": "2024-07-10T07:39:37.146Z"
   },
   {
    "duration": 328,
    "start_time": "2024-07-10T07:39:43.177Z"
   },
   {
    "duration": 4,
    "start_time": "2024-07-10T07:40:21.065Z"
   },
   {
    "duration": 39,
    "start_time": "2024-07-10T07:40:21.545Z"
   },
   {
    "duration": 18,
    "start_time": "2024-07-10T07:40:22.346Z"
   },
   {
    "duration": 19,
    "start_time": "2024-07-10T07:40:22.777Z"
   },
   {
    "duration": 5,
    "start_time": "2024-07-10T07:40:23.639Z"
   },
   {
    "duration": 20,
    "start_time": "2024-07-10T07:40:24.120Z"
   },
   {
    "duration": 317,
    "start_time": "2024-07-10T07:40:25.482Z"
   },
   {
    "duration": 325,
    "start_time": "2024-07-10T07:42:06.765Z"
   },
   {
    "duration": 35,
    "start_time": "2024-07-10T07:42:13.341Z"
   },
   {
    "duration": 320,
    "start_time": "2024-07-10T07:42:17.009Z"
   },
   {
    "duration": 5,
    "start_time": "2024-07-10T07:42:29.998Z"
   },
   {
    "duration": 7,
    "start_time": "2024-07-10T07:43:07.437Z"
   },
   {
    "duration": 334,
    "start_time": "2024-07-10T07:43:29.086Z"
   },
   {
    "duration": 87,
    "start_time": "2024-07-10T07:45:09.970Z"
   },
   {
    "duration": 4,
    "start_time": "2024-07-10T07:45:51.816Z"
   },
   {
    "duration": 30,
    "start_time": "2024-07-10T07:45:59.089Z"
   },
   {
    "duration": 48,
    "start_time": "2024-07-10T07:46:05.345Z"
   },
   {
    "duration": 50,
    "start_time": "2024-07-10T07:46:21.667Z"
   },
   {
    "duration": 83,
    "start_time": "2024-07-10T07:46:59.700Z"
   },
   {
    "duration": 1165,
    "start_time": "2024-07-10T07:47:26.336Z"
   },
   {
    "duration": 43,
    "start_time": "2024-07-10T07:47:27.512Z"
   },
   {
    "duration": 20,
    "start_time": "2024-07-10T07:47:27.558Z"
   },
   {
    "duration": 46,
    "start_time": "2024-07-10T07:47:27.580Z"
   },
   {
    "duration": 5,
    "start_time": "2024-07-10T07:47:27.632Z"
   },
   {
    "duration": 19,
    "start_time": "2024-07-10T07:47:27.640Z"
   },
   {
    "duration": 127,
    "start_time": "2024-07-10T07:47:27.662Z"
   },
   {
    "duration": 32,
    "start_time": "2024-07-10T07:47:27.792Z"
   },
   {
    "duration": 20,
    "start_time": "2024-07-10T07:47:27.827Z"
   },
   {
    "duration": 72,
    "start_time": "2024-07-10T07:47:27.850Z"
   },
   {
    "duration": 27,
    "start_time": "2024-07-10T07:47:27.925Z"
   },
   {
    "duration": 23,
    "start_time": "2024-07-10T07:47:27.955Z"
   },
   {
    "duration": 52,
    "start_time": "2024-07-10T07:47:27.981Z"
   },
   {
    "duration": 289,
    "start_time": "2024-07-10T07:47:28.039Z"
   },
   {
    "duration": 286,
    "start_time": "2024-07-10T07:47:28.331Z"
   },
   {
    "duration": 6,
    "start_time": "2024-07-10T07:47:28.620Z"
   },
   {
    "duration": 386,
    "start_time": "2024-07-10T07:47:28.629Z"
   },
   {
    "duration": 9,
    "start_time": "2024-07-10T07:47:29.018Z"
   },
   {
    "duration": 11,
    "start_time": "2024-07-10T07:47:29.030Z"
   },
   {
    "duration": 9,
    "start_time": "2024-07-10T07:47:29.044Z"
   },
   {
    "duration": 445,
    "start_time": "2024-07-10T07:47:29.056Z"
   },
   {
    "duration": 276,
    "start_time": "2024-07-10T07:47:29.504Z"
   },
   {
    "duration": 272,
    "start_time": "2024-07-10T07:47:29.783Z"
   },
   {
    "duration": 9,
    "start_time": "2024-07-10T07:47:30.058Z"
   },
   {
    "duration": 42,
    "start_time": "2024-07-10T07:47:30.070Z"
   },
   {
    "duration": 11,
    "start_time": "2024-07-10T07:47:30.114Z"
   },
   {
    "duration": 9,
    "start_time": "2024-07-10T07:47:30.127Z"
   },
   {
    "duration": 8,
    "start_time": "2024-07-10T07:47:30.140Z"
   },
   {
    "duration": 10,
    "start_time": "2024-07-10T07:47:30.151Z"
   },
   {
    "duration": 58,
    "start_time": "2024-07-10T07:47:30.163Z"
   },
   {
    "duration": 7,
    "start_time": "2024-07-10T07:47:30.224Z"
   },
   {
    "duration": 16,
    "start_time": "2024-07-10T07:47:30.234Z"
   }
  ],
  "kernelspec": {
   "display_name": "Python 3 (ipykernel)",
   "language": "python",
   "name": "python3"
  },
  "language_info": {
   "codemirror_mode": {
    "name": "ipython",
    "version": 3
   },
   "file_extension": ".py",
   "mimetype": "text/x-python",
   "name": "python",
   "nbconvert_exporter": "python",
   "pygments_lexer": "ipython3",
   "version": "3.9.19"
  },
  "toc": {
   "base_numbering": 1,
   "nav_menu": {},
   "number_sections": true,
   "sideBar": true,
   "skip_h1_title": true,
   "title_cell": "Table of Contents",
   "title_sidebar": "Contents",
   "toc_cell": false,
   "toc_position": {},
   "toc_section_display": true,
   "toc_window_display": false
  }
 },
 "nbformat": 4,
 "nbformat_minor": 2
}
